{
 "cells": [
  {
   "cell_type": "code",
   "execution_count": 3,
   "metadata": {
    "collapsed": false
   },
   "outputs": [
    {
     "data": {
      "text/plain": [
       "defined \u001b[32mtrait \u001b[36mCondition\u001b[0m\n",
       "defined \u001b[32mobject \u001b[36mPristine\u001b[0m\n",
       "defined \u001b[32mobject \u001b[36mDecent\u001b[0m\n",
       "defined \u001b[32mobject \u001b[36mTrashed\u001b[0m\n",
       "defined \u001b[32mtrait \u001b[36mLocation\u001b[0m\n",
       "defined \u001b[32mobject \u001b[36mSchool\u001b[0m\n",
       "defined \u001b[32mobject \u001b[36mHome\u001b[0m\n",
       "defined \u001b[32mobject \u001b[36mRestaurant\u001b[0m\n",
       "defined \u001b[32mobject \u001b[36mJanesHouse\u001b[0m\n",
       "defined \u001b[32mfunction \u001b[36massertWithException\u001b[0m\n",
       "defined \u001b[32mclass \u001b[36mCar\u001b[0m\n",
       "defined \u001b[32mclass \u001b[36mPerson\u001b[0m"
      ]
     },
     "metadata": {},
     "output_type": "display_data"
    }
   ],
   "source": [
    "sealed trait Condition\n",
    "object Pristine extends Condition\n",
    "object Decent extends Condition\n",
    "object Trashed extends Condition\n",
    "\n",
    "sealed trait Location\n",
    "object School extends Location\n",
    "object Home extends Location\n",
    "object Restaurant extends Location\n",
    "object JanesHouse extends Location\n",
    "\n",
    "def assertWithException(condition: Boolean, msg: String): Unit = {\n",
    "    if (!condition)\n",
    "        throw new Exception(msg)\n",
    "}\n",
    "\n",
    "case class Car(var fuel: Int, var condition: Condition, var location: Location)\n",
    "case class Person(var name: String, var location: Location) {\n",
    "  def drive(car: Car, destination: Location): Unit = {\n",
    "      assertWithException(this.location == car.location, \"Car and driver aren't in the same place!\")\n",
    "      car.fuel -= 20\n",
    "      if (car.fuel < 0)\n",
    "          throw new Exception(\"Out of gas!\")\n",
    "      car.location = destination\n",
    "      this.location = destination\n",
    "  }\n",
    "  def clean(car: Car): Unit = \n",
    "    car.condition = Pristine\n",
    "    \n",
    "  def fill(car: Car): Unit = \n",
    "    car.fuel = 100\n",
    "}"
   ]
  },
  {
   "cell_type": "code",
   "execution_count": 4,
   "metadata": {
    "collapsed": false
   },
   "outputs": [
    {
     "data": {
      "text/plain": [
       "\u001b[36msam\u001b[0m: \u001b[32mPerson\u001b[0m = Person(Sam,cmd2$$user$Home$@610253a5)\n",
       "\u001b[36mjoe\u001b[0m: \u001b[32mPerson\u001b[0m = Person(Joe,cmd2$$user$Home$@610253a5)\n",
       "\u001b[36mmutableCar\u001b[0m: \u001b[32mCar\u001b[0m = Car(100,cmd2$$user$Pristine$@9529949,cmd2$$user$Home$@610253a5)"
      ]
     },
     "metadata": {},
     "output_type": "display_data"
    }
   ],
   "source": [
    "var sam = Person(\"Sam\", Home)\n",
    "var joe = Person(\"Joe\", Home)\n",
    "var mutableCar = Car(100, Pristine, Home)"
   ]
  },
  {
   "cell_type": "code",
   "execution_count": 32,
   "metadata": {
    "collapsed": false
   },
   "outputs": [
    {
     "ename": "",
     "evalue": "",
     "output_type": "error",
     "traceback": [
      "java.lang.Exception: Out of gas! (Out of gas!)",
      "  cmd31$$user$Person.drive(Main.scala:46)",
      "  cmd31$$user$$anonfun$8.apply$mcV$sp(Main.scala:94)"
     ]
    }
   ],
   "source": [
    "joe.drive(mutableCar, School) // Error: Joe can't drive a car if he's not in the same location\n",
    "\n",
    "if (mutableCar.location == Home) { // Now we're safe. Sort've.\n",
    "  println(\"Sam's driving\")\n",
    "  sam.drive(mutableCar, School)\n",
    "}\n",
    "\n",
    "joe.drive(mutableCar, Home)\n",
    "\n",
    "if (mutableCar.condition != Pristine)\n",
    "  joe.clean(mutableCar)\n",
    "joe.drive(mutableCar, JanesHouse)\n",
    "joe.drive(mutableCar, Home)\n",
    "\n",
    "if (mutableCar.fuel < 100)\n",
    "  joe.fill(mutableCar)\n",
    "\n",
    "if (mutableCar.fuel > 80) {\n",
    "    sam.drive(mutableCar, Restaurant)\n",
    "    sam.drive(mutableCar, School)\n",
    "    sam.drive(mutableCar, Home)\n",
    "    sam.drive(mutableCar, School)\n",
    "    sam.drive(mutableCar, Home)\n",
    "    joe.drive(mutableCar, School) // Error: Out of gas!\n",
    "}\n"
   ]
  }
 ],
 "metadata": {
  "anaconda-cloud": {},
  "kernelspec": {
   "display_name": "Scala 2.11",
   "language": "scala211",
   "name": "scala211"
  },
  "language_info": {
   "codemirror_mode": "text/x-scala",
   "file_extension": ".scala",
   "mimetype": "text/x-scala",
   "name": "scala211",
   "pygments_lexer": "scala",
   "version": "2.11.8"
  }
 },
 "nbformat": 4,
 "nbformat_minor": 1
}
