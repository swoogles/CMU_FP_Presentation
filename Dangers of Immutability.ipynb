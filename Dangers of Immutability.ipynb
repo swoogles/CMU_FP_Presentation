{
 "cells": [
  {
   "cell_type": "code",
   "execution_count": 16,
   "metadata": {
    "collapsed": false
   },
   "outputs": [
    {
     "ename": "",
     "evalue": "",
     "output_type": "error",
     "traceback": [
      "java.lang.Exception: Car and driver aren't in the same place! (Car and driver aren't in the same place!)",
      "  cmd15$$user$Person.drive(Main.scala:40)",
      "  cmd15$$user$$anonfun$1.apply$mcV$sp(Main.scala:59)"
     ]
    }
   ],
   "source": [
    "sealed trait Condition\n",
    "object Pristine extends Condition\n",
    "object Decent extends Condition\n",
    "object Trashed extends Condition\n",
    "\n",
    "sealed trait Location\n",
    "object School extends Location\n",
    "object Home extends Location\n",
    "object Restaurant extends Location\n",
    "object JanesHouse extends Location\n",
    "\n",
    "case class Car(var fuel: Int, var condition: Condition, var location: Location)\n",
    "case class Person(var name: String, var location: Location) {\n",
    "  def drive(car: Car, destination: Location) = {\n",
    "      if (this.location != car.location)\n",
    "          throw new Exception(\"Car and driver aren't in the same place!\")\n",
    "      car.fuel -= 20\n",
    "      if (car.fuel < 0)\n",
    "          throw new Exception(\"Out of gas!\")\n",
    "      car.location = destination\n",
    "      this.location = destination\n",
    "  }\n",
    "  def clean(car: Car) = car.condition = Pristine\n",
    "  def fill(car: Car) = car.fuel = 100\n",
    "}\n",
    "\n",
    "\n",
    "var sam = new Person(\"Sam\", Home)\n",
    "var joe = new Person(\"Joe\", School)\n",
    "var mutableCar = new Car(100, Pristine, Home)\n",
    "\n",
    "joe.drive(mutableCar, School) // Error: Joe can't drive a car if he's not in the same location\n",
    "\n",
    "if (mutableCar.location == Home) // Now we're safe. Sort've.\n",
    "  sam.drive(mutableCar, School)\n",
    "\n",
    "\n",
    "if (mutableCar.condition != Pristine)\n",
    "  joe.clean(mutableCar)\n",
    "joe.drive(mutableCar, JanesHouse)\n",
    "\n",
    "if (mutableCar.fuel < 100)\n",
    "  joe.fill(mutableCar)\n",
    "\n",
    "if (mutableCar.fuel > 80) {\n",
    "    sam.drive(mutableCar, Restaurant)\n",
    "    sam.drive(mutableCar, School)\n",
    "    sam.drive(mutableCar, Home)\n",
    "    sam.drive(mutableCar, School)\n",
    "    sam.drive(mutableCar, Home)\n",
    "//     joe.drive(mutableCar, School) // Error: Out of gas!\n",
    "}\n"
   ]
  }
 ],
 "metadata": {
  "anaconda-cloud": {},
  "kernelspec": {
   "display_name": "Scala 2.11",
   "language": "scala211",
   "name": "scala211"
  },
  "language_info": {
   "codemirror_mode": "text/x-scala",
   "file_extension": ".scala",
   "mimetype": "text/x-scala",
   "name": "scala211",
   "pygments_lexer": "scala",
   "version": "2.11.8"
  }
 },
 "nbformat": 4,
 "nbformat_minor": 1
}
