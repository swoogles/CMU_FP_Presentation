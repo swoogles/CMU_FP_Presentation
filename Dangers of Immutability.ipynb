{
 "cells": [
  {
   "cell_type": "code",
   "execution_count": 14,
   "metadata": {
    "collapsed": false
   },
   "outputs": [
    {
     "data": {
      "text/plain": [
       "defined \u001b[32mtrait \u001b[36mCondition\u001b[0m\n",
       "defined \u001b[32mobject \u001b[36mPristine\u001b[0m\n",
       "defined \u001b[32mobject \u001b[36mDecent\u001b[0m\n",
       "defined \u001b[32mobject \u001b[36mTrashed\u001b[0m\n",
       "defined \u001b[32mtrait \u001b[36mLocation\u001b[0m\n",
       "defined \u001b[32mobject \u001b[36mSchool\u001b[0m\n",
       "defined \u001b[32mobject \u001b[36mHome\u001b[0m\n",
       "defined \u001b[32mobject \u001b[36mRestaurant\u001b[0m\n",
       "defined \u001b[32mobject \u001b[36mJanesHouse\u001b[0m\n",
       "defined \u001b[32mfunction \u001b[36massertWithException\u001b[0m\n",
       "defined \u001b[32mclass \u001b[36mCar\u001b[0m\n",
       "defined \u001b[32mclass \u001b[36mPerson\u001b[0m"
      ]
     },
     "metadata": {},
     "output_type": "display_data"
    }
   ],
   "source": [
    "sealed trait Condition\n",
    "object Pristine extends Condition\n",
    "object Decent extends Condition\n",
    "object Trashed extends Condition\n",
    "\n",
    "sealed trait Location\n",
    "object School extends Location\n",
    "object Home extends Location\n",
    "object Restaurant extends Location\n",
    "object JanesHouse extends Location\n",
    "\n",
    "def assertWithException(condition: Boolean, msg: String): Unit = {\n",
    "    if (!condition)\n",
    "        throw new Exception(msg)\n",
    "}\n",
    "\n",
    "case class Car(var fuel: Int, var condition: Condition, var location: Location)\n",
    "case class Person(var name: String, var location: Location) {\n",
    "  def drive(car: Car, destination: Location): Unit = {\n",
    "      assertWithException(this.location == car.location, s\"${this.name} is at ${this.location}, but Car is at $car.location\") // Abort!\n",
    "      car.fuel -= 20\n",
    "      if (car.fuel < 0)\n",
    "          throw new Exception(\"Out of gas!\") // Abort!\n",
    "      car.location = destination\n",
    "      this.location = destination\n",
    "  }\n",
    "  def clean(car: Car): Unit = \n",
    "    car.condition = Pristine\n",
    "    \n",
    "  def fill(car: Car): Unit = \n",
    "    car.fuel = 100\n",
    "}"
   ]
  },
  {
   "cell_type": "code",
   "execution_count": 15,
   "metadata": {
    "collapsed": false
   },
   "outputs": [
    {
     "data": {
      "text/plain": [
       "\u001b[36msam\u001b[0m: \u001b[32mPerson\u001b[0m = Person(Sam,cmd13$$user$Home$@2420c55c)\n",
       "\u001b[36mjoe\u001b[0m: \u001b[32mPerson\u001b[0m = Person(Joe,cmd13$$user$Home$@2420c55c)\n",
       "\u001b[36mmutableCar\u001b[0m: \u001b[32mCar\u001b[0m = Car(100,cmd13$$user$Pristine$@2c828eae,cmd13$$user$Home$@2420c55c)\n",
       "defined \u001b[32mfunction \u001b[36mresetVars\u001b[0m"
      ]
     },
     "metadata": {},
     "output_type": "display_data"
    }
   ],
   "source": [
    "var sam = Person(\"Sam\", Home)\n",
    "var joe = Person(\"Joe\", Home)\n",
    "var mutableCar = Car(100, Pristine, Home)\n",
    "\n",
    "def resetVars(): Unit = {\n",
    "    sam = Person(\"Sam\", Home)\n",
    "    joe = Person(\"Joe\", Home)\n",
    "    mutableCar = Car(100, Pristine, Home)  \n",
    "}"
   ]
  },
  {
   "cell_type": "code",
   "execution_count": 25,
   "metadata": {
    "collapsed": false
   },
   "outputs": [
    {
     "name": "stdout",
     "output_type": "stream",
     "text": [
      "Sam's driving\n"
     ]
    },
    {
     "ename": "",
     "evalue": "",
     "output_type": "error",
     "traceback": [
      "java.lang.Exception: Out of gas! (Out of gas!)",
      "  cmd13$$user$Person.drive(Main.scala:38)",
      "  cmd24$$user$$anonfun$11.apply$mcV$sp(Main.scala:79)"
     ]
    }
   ],
   "source": [
    "resetVars()\n",
    "\n",
    "joe.drive(mutableCar, School)\n",
    "resetVars() // How much do you trust this?\n",
    "\n",
    "if (mutableCar.location == Home) { // Now we're safe. Sort've.\n",
    "  println(\"Sam's driving\")\n",
    "  sam.drive(mutableCar, School)\n",
    "}\n",
    "\n",
    "resetVars()\n",
    "\n",
    "joe.drive(mutableCar, Home)\n",
    "\n",
    "if (mutableCar.condition != Pristine)\n",
    "  joe.clean(mutableCar)\n",
    "\n",
    "joe.drive(mutableCar, JanesHouse)\n",
    "joe.drive(mutableCar, Home)\n",
    "\n",
    "if (mutableCar.fuel < 100)\n",
    "  joe.fill(mutableCar)\n",
    "\n",
    "if (mutableCar.fuel > 80) {\n",
    "    sam.drive(mutableCar, Restaurant)\n",
    "    sam.drive(mutableCar, School)\n",
    "    sam.drive(mutableCar, Home)\n",
    "    sam.drive(mutableCar, School)\n",
    "    sam.drive(mutableCar, Home)\n",
    "    joe.drive(mutableCar, School) // Error: Out of gas!\n",
    "}\n"
   ]
  },
  {
   "cell_type": "code",
   "execution_count": null,
   "metadata": {
    "collapsed": true
   },
   "outputs": [],
   "source": []
  }
 ],
 "metadata": {
  "anaconda-cloud": {},
  "kernelspec": {
   "display_name": "Scala 2.11",
   "language": "scala211",
   "name": "scala211"
  },
  "language_info": {
   "codemirror_mode": "text/x-scala",
   "file_extension": ".scala",
   "mimetype": "text/x-scala",
   "name": "scala211",
   "pygments_lexer": "scala",
   "version": "2.11.8"
  }
 },
 "nbformat": 4,
 "nbformat_minor": 1
}
