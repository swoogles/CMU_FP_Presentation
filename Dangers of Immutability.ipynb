{
 "cells": [
  {
   "cell_type": "code",
   "execution_count": 14,
   "metadata": {
    "collapsed": false
   },
   "outputs": [
    {
     "data": {
      "text/plain": [
       "defined \u001b[32mtrait \u001b[36mCondition\u001b[0m\n",
       "defined \u001b[32mobject \u001b[36mPristine\u001b[0m\n",
       "defined \u001b[32mobject \u001b[36mDecent\u001b[0m\n",
       "defined \u001b[32mobject \u001b[36mTrashed\u001b[0m\n",
       "defined \u001b[32mtrait \u001b[36mLocation\u001b[0m\n",
       "defined \u001b[32mobject \u001b[36mSchool\u001b[0m\n",
       "defined \u001b[32mobject \u001b[36mHome\u001b[0m\n",
       "defined \u001b[32mobject \u001b[36mRestaurant\u001b[0m\n",
       "defined \u001b[32mobject \u001b[36mJanesHouse\u001b[0m\n",
       "defined \u001b[32mfunction \u001b[36massertWithException\u001b[0m\n",
       "defined \u001b[32mclass \u001b[36mCar\u001b[0m\n",
       "defined \u001b[32mclass \u001b[36mPerson\u001b[0m"
      ]
     },
     "metadata": {},
     "output_type": "display_data"
    }
   ],
   "source": []
  },
  {
   "cell_type": "code",
   "execution_count": 27,
   "metadata": {
    "collapsed": false
   },
   "outputs": [
    {
     "data": {
      "text/plain": [
       "\u001b[36msam\u001b[0m: \u001b[32mPerson\u001b[0m = null\n",
       "\u001b[36mjoe\u001b[0m: \u001b[32mPerson\u001b[0m = null\n",
       "\u001b[36mmutableCar\u001b[0m: \u001b[32mCar\u001b[0m = null\n",
       "defined \u001b[32mfunction \u001b[36mresetVars\u001b[0m"
      ]
     },
     "metadata": {},
     "output_type": "display_data"
    }
   ],
   "source": [
    "var sam: Person = null\n",
    "var joe: Person = null\n",
    "var mutableCar: Car = null\n",
    "\n",
    "def resetVars(): Unit = {\n",
    "    sam = Person(\"Sam\", Home)\n",
    "    joe = Person(\"Joe\", Home)\n",
    "    mutableCar = Car(100, Pristine, Home)  \n",
    "}"
   ]
  },
  {
   "cell_type": "code",
   "execution_count": 28,
   "metadata": {
    "collapsed": false
   },
   "outputs": [
    {
     "name": "stdout",
     "output_type": "stream",
     "text": [
      "Sam's driving\n"
     ]
    },
    {
     "ename": "",
     "evalue": "",
     "output_type": "error",
     "traceback": [
      "java.lang.Exception: Out of gas! (Out of gas!)",
      "  cmd13$$user$Person.drive(Main.scala:38)",
      "  cmd27$$user$$anonfun$11.apply$mcV$sp(Main.scala:79)"
     ]
    }
   ],
   "source": [
    "resetVars()\n",
    "\n",
    "joe.drive(mutableCar, School)\n",
    "resetVars() // How much do you trust this?\n",
    "\n",
    "if (mutableCar.location == Home) { // Now we're safe. Sort've.\n",
    "  println(\"Sam's driving\")\n",
    "  sam.drive(mutableCar, School)\n",
    "}\n",
    "\n",
    "resetVars()\n",
    "\n",
    "joe.drive(mutableCar, Home)\n",
    "\n",
    "if (mutableCar.condition != Pristine)\n",
    "  joe.clean(mutableCar)\n",
    "\n",
    "joe.drive(mutableCar, JanesHouse)\n",
    "joe.drive(mutableCar, Home)\n",
    "\n",
    "if (mutableCar.fuel < 100)\n",
    "  joe.fill(mutableCar)\n",
    "\n",
    "if (mutableCar.fuel > 80) {\n",
    "    sam.drive(mutableCar, Restaurant)\n",
    "    sam.drive(mutableCar, School)\n",
    "    sam.drive(mutableCar, Home)\n",
    "    sam.drive(mutableCar, School)\n",
    "    sam.drive(mutableCar, Home)\n",
    "    joe.drive(mutableCar, School) // Error: Out of gas!\n",
    "}\n"
   ]
  },
  {
   "cell_type": "code",
   "execution_count": null,
   "metadata": {
    "collapsed": true
   },
   "outputs": [],
   "source": []
  }
 ],
 "metadata": {
  "anaconda-cloud": {},
  "kernelspec": {
   "display_name": "Scala 2.11",
   "language": "scala211",
   "name": "scala211"
  },
  "language_info": {
   "codemirror_mode": "text/x-scala",
   "file_extension": ".scala",
   "mimetype": "text/x-scala",
   "name": "scala211",
   "pygments_lexer": "scala",
   "version": "2.11.8"
  }
 },
 "nbformat": 4,
 "nbformat_minor": 1
}
