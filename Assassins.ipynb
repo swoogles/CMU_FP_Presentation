{
 "cells": [
  {
   "cell_type": "code",
   "execution_count": 4,
   "metadata": {
    "collapsed": false
   },
   "outputs": [
    {
     "data": {
      "text/plain": [
       "defined \u001b[32mclass \u001b[36mPerson\u001b[0m\n",
       "defined \u001b[32mobject \u001b[36mAssassin_silent\u001b[0m\n",
       "defined \u001b[32mobject \u001b[36mAssassin_all_talk\u001b[0m\n",
       "defined \u001b[32mobject \u001b[36mAssassin_numbers\u001b[0m\n",
       "defined \u001b[32mobject \u001b[36mAssassin_thorough\u001b[0m\n",
       "\u001b[36mjeff\u001b[0m: \u001b[32m$user\u001b[0m.\u001b[32mPerson\u001b[0m = \u001b[33mPerson\u001b[0m(\u001b[32m\"Jeff\"\u001b[0m, \u001b[32mtrue\u001b[0m)"
      ]
     },
     "metadata": {},
     "output_type": "display_data"
    }
   ],
   "source": [
    "case class Person(name: String, alive: Boolean)\n",
    "\n",
    "object Assassin_silent {\n",
    "  def kill(target: Person) = ()\n",
    "}\n",
    "\n",
    "object Assassin_all_talk {\n",
    "  def kill(target: Person) = \"Sure, I'll kill him. Trust me.\"\n",
    "}\n",
    "\n",
    "object Assassin_numbers {\n",
    "  def kill(target: Person) = 3\n",
    "}\n",
    "\n",
    "\n",
    "object Assassin_thorough {\n",
    "  def kill(target: Person) = target.copy(alive=false)\n",
    "}"
   ]
  },
  {
   "cell_type": "code",
   "execution_count": 8,
   "metadata": {
    "collapsed": false
   },
   "outputs": [
    {
     "data": {
      "text/plain": [
       "\u001b[36mjeff\u001b[0m: \u001b[32mPerson\u001b[0m = \u001b[33mPerson\u001b[0m(\u001b[32m\"Jeff\"\u001b[0m, \u001b[32mtrue\u001b[0m)\n",
       "\u001b[36mres7_2\u001b[0m: \u001b[32mString\u001b[0m = \u001b[32m\"Sure, I'll kill him. Trust me.\"\u001b[0m\n",
       "\u001b[36mres7_3\u001b[0m: \u001b[32mInt\u001b[0m = \u001b[32m3\u001b[0m\n",
       "\u001b[36mres7_4\u001b[0m: \u001b[32mPerson\u001b[0m = \u001b[33mPerson\u001b[0m(\u001b[32m\"Jeff\"\u001b[0m, \u001b[32mfalse\u001b[0m)"
      ]
     },
     "metadata": {},
     "output_type": "display_data"
    }
   ],
   "source": [
    "val jeff = Person(\"Jeff\", true)\n",
    "Assassin_silent.kill(jeff)\n",
    "Assassin_all_talk.kill(jeff)\n",
    "Assassin_numbers.kill(jeff)\n",
    "Assassin_thorough.kill(jeff)\n"
   ]
  },
  {
   "cell_type": "code",
   "execution_count": null,
   "metadata": {
    "collapsed": true
   },
   "outputs": [],
   "source": []
  }
 ],
 "metadata": {
  "anaconda-cloud": {},
  "kernelspec": {
   "display_name": "Scala 2.11",
   "language": "scala211",
   "name": "scala211"
  },
  "language_info": {
   "codemirror_mode": "text/x-scala",
   "file_extension": ".scala",
   "mimetype": "text/x-scala",
   "name": "scala211",
   "pygments_lexer": "scala",
   "version": "2.11.8"
  }
 },
 "nbformat": 4,
 "nbformat_minor": 1
}
