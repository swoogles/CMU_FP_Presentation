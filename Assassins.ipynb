{
 "cells": [
  {
   "cell_type": "code",
   "execution_count": null,
   "metadata": {
    "collapsed": false
   },
   "outputs": [],
   "source": [
    "sealed trait Health\n",
    "case object Alive extends Health\n",
    "case object Dead extends Health\n",
    "\n",
    "case class Person(name: String, alive: Health)\n",
    "\n",
    "object Assassin_silent {\n",
    "  def kill(target: Person): Unit = ()\n",
    "}\n",
    "\n",
    "object Assassin_all_talk {\n",
    "  def kill(target: Person): String = \"Sure, I'll kill him. Trust me.\"\n",
    "}\n",
    "\n",
    "object Assassin_thorough {\n",
    "  def kill(target: Person): Person = target.copy(alive=Dead)\n",
    "}"
   ]
  },
  {
   "cell_type": "code",
   "execution_count": null,
   "metadata": {
    "collapsed": false
   },
   "outputs": [],
   "source": [
    "val jeff = Person(\"Jeff\", Alive)"
   ]
  },
  {
   "cell_type": "code",
   "execution_count": null,
   "metadata": {
    "collapsed": true
   },
   "outputs": [],
   "source": [
    "Assassin_silent.kill(jeff)"
   ]
  },
  {
   "cell_type": "code",
   "execution_count": null,
   "metadata": {
    "collapsed": false
   },
   "outputs": [],
   "source": [
    "Assassin_all_talk.kill(jeff)"
   ]
  },
  {
   "cell_type": "code",
   "execution_count": null,
   "metadata": {
    "collapsed": true
   },
   "outputs": [],
   "source": [
    "Assassin_thorough.kill(jeff)"
   ]
  }
 ],
 "metadata": {
  "anaconda-cloud": {},
  "kernelspec": {
   "display_name": "Scala 2.11",
   "language": "scala211",
   "name": "scala211"
  },
  "language_info": {
   "codemirror_mode": "text/x-scala",
   "file_extension": ".scala",
   "mimetype": "text/x-scala",
   "name": "scala211",
   "pygments_lexer": "scala",
   "version": "2.11.8"
  }
 },
 "nbformat": 4,
 "nbformat_minor": 1
}
