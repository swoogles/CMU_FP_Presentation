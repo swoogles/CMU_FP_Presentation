{
 "cells": [
  {
   "cell_type": "code",
   "execution_count": 1,
   "metadata": {
    "collapsed": false
   },
   "outputs": [
    {
     "data": {
      "text/plain": [
       "defined \u001b[32mtrait \u001b[36mLocation\u001b[0m\n",
       "defined \u001b[32mobject \u001b[36mSchool\u001b[0m\n",
       "defined \u001b[32mobject \u001b[36mHome\u001b[0m\n",
       "defined \u001b[32mobject \u001b[36mRestaurant\u001b[0m\n",
       "defined \u001b[32mclass \u001b[36mMotorcycle\u001b[0m\n",
       "defined \u001b[32mclass \u001b[36mPerson\u001b[0m"
      ]
     },
     "metadata": {},
     "output_type": "display_data"
    }
   ],
   "source": [
    "sealed trait Location\n",
    "case object School extends Location\n",
    "case object Home extends Location\n",
    "case object Restaurant extends Location\n",
    "\n",
    "case class Motorcycle(var fuel: Int, var location: Location) {\n",
    "  val tripCost = 20\n",
    "    \n",
    "  def drive(destination: Location): Unit = {\n",
    "    if (this.fuel < tripCost)\n",
    "      throw new Exception(\"Out of gas!\") // Abort!\n",
    "    this.fuel -= tripCost\n",
    "    this.location = destination\n",
    "  }\n",
    "    \n",
    "}\n",
    "\n",
    "case class Person(var name: String, var location: Location) {\n",
    "\n",
    "  // Spot the bug in this method!\n",
    "  def drive(motorcycle: Motorcycle, destination: Location): Unit = {\n",
    "    if(this.location != motorcycle.location) {\n",
    "      throw new Exception(s\"${this.name} is at ${this.location}, but Car is at ${motorcycle.location}\") // Abort!\n",
    "    }\n",
    "    this.location = destination\n",
    "    motorcycle.drive(destination)\n",
    "  }\n",
    "\n",
    "  def fill(motorcycle: Motorcycle): Unit = {\n",
    "    if(this.location != motorcycle.location) {\n",
    "      throw new Exception(s\"${this.name} is at ${this.location}, but Car is at ${motorcycle.location}\") // Abort!\n",
    "    }\n",
    "    motorcycle.fuel = 100\n",
    "  }\n",
    "}"
   ]
  },
  {
   "cell_type": "code",
   "execution_count": 4,
   "metadata": {
    "collapsed": false
   },
   "outputs": [
    {
     "data": {
      "text/plain": [
       "\u001b[36msam\u001b[0m: \u001b[32mPerson\u001b[0m = null\n",
       "\u001b[36mjoe\u001b[0m: \u001b[32mPerson\u001b[0m = null\n",
       "\u001b[36mmotorcycle\u001b[0m: \u001b[32mMotorcycle\u001b[0m = null\n",
       "defined \u001b[32mfunction \u001b[36mresetVars\u001b[0m"
      ]
     },
     "metadata": {},
     "output_type": "display_data"
    }
   ],
   "source": [
    "  var sam: Person = null\n",
    "  var joe: Person = null\n",
    "  var motorcycle: Motorcycle = null\n",
    "\n",
    "  def resetVars(): Unit = {\n",
    "    sam = Person(\"Sam\", Home)\n",
    "    joe = Person(\"Joe\", Home)\n",
    "    motorcycle = Motorcycle(100, Home)\n",
    "  }\n"
   ]
  },
  {
   "cell_type": "code",
   "execution_count": 5,
   "metadata": {
    "collapsed": false
   },
   "outputs": [
    {
     "data": {
      "text/plain": []
     },
     "metadata": {},
     "output_type": "display_data"
    }
   ],
   "source": [
    "resetVars()"
   ]
  },
  {
   "cell_type": "code",
   "execution_count": 8,
   "metadata": {
    "collapsed": false
   },
   "outputs": [
    {
     "ename": "",
     "evalue": "",
     "output_type": "error",
     "traceback": [
      "java.lang.Exception: Out of gas! (Out of gas!)",
      "  cmd0$$user$Motorcycle.drive(Main.scala:28)",
      "  cmd0$$user$Person.drive(Main.scala:41)",
      "  cmd7$$user$$anonfun$2.apply$mcV$sp(Main.scala:36)"
     ]
    }
   ],
   "source": [
    "joe.drive(motorcycle, School)\n",
    "joe.drive(motorcycle, Home)\n",
    "\n"
   ]
  },
  {
   "cell_type": "code",
   "execution_count": 9,
   "metadata": {
    "collapsed": false
   },
   "outputs": [
    {
     "ename": "",
     "evalue": "",
     "output_type": "error",
     "traceback": [
      "java.lang.Exception: Out of gas! (Out of gas!)",
      "  cmd0$$user$Motorcycle.drive(Main.scala:28)",
      "  cmd0$$user$Person.drive(Main.scala:41)",
      "  cmd8$$user$$anonfun$3.apply$mcV$sp(Main.scala:49)"
     ]
    }
   ],
   "source": [
    "resetVars()\n",
    "\n",
    "if (motorcycle.fuel < 100)\n",
    "      joe.fill(motorcycle)\n",
    "\n",
    "if (motorcycle.fuel == 100) {\n",
    "  sam.drive(motorcycle, Restaurant)\n",
    "  sam.drive(motorcycle, School)\n",
    "  sam.drive(motorcycle, Home)\n",
    "  sam.drive(motorcycle, School)\n",
    "  sam.drive(motorcycle, Home)\n",
    "    // .....\n",
    "    /// ....\n",
    "    \n",
    "  joe.drive(motorcycle, School) // Error: Out of gas!\n",
    "}\n"
   ]
  }
 ],
 "metadata": {
  "anaconda-cloud": {},
  "kernelspec": {
   "display_name": "Scala 2.11",
   "language": "scala211",
   "name": "scala211"
  },
  "language_info": {
   "codemirror_mode": "text/x-scala",
   "file_extension": ".scala",
   "mimetype": "text/x-scala",
   "name": "scala211",
   "pygments_lexer": "scala",
   "version": "2.11.8"
  }
 },
 "nbformat": 4,
 "nbformat_minor": 1
}
