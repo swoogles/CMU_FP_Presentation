{
 "cells": [
  {
   "cell_type": "code",
   "execution_count": 1,
   "metadata": {
    "collapsed": false
   },
   "outputs": [
    {
     "name": "stdout",
     "output_type": "stream",
     "text": [
      "1 new artifact(s)"
     ]
    },
    {
     "name": "stderr",
     "output_type": "stream",
     "text": [
      "1 new artifacts in macro\n",
      "1 new artifacts in runtime\n",
      "1 new artifacts in compile\n"
     ]
    },
    {
     "name": "stdout",
     "output_type": "stream",
     "text": [
      "\n"
     ]
    },
    {
     "data": {
      "text/plain": []
     },
     "metadata": {},
     "output_type": "display_data"
    }
   ],
   "source": [
    "classpath.add(\"org.jsoup\" % \"jsoup\" % \"1.10.1\")"
   ]
  },
  {
   "cell_type": "code",
   "execution_count": 42,
   "metadata": {
    "collapsed": false
   },
   "outputs": [
    {
     "data": {
      "text/plain": [
       "\u001b[32mimport \u001b[36morg.jsoup.Jsoup\u001b[0m\n",
       "\u001b[32mimport \u001b[36morg.jsoup.nodes.Document\u001b[0m\n",
       "\u001b[32mimport \u001b[36mcollection.JavaConversions._\u001b[0m\n",
       "\u001b[32mimport \u001b[36morg.jsoup.nodes.Element\u001b[0m\n",
       "\u001b[32mimport \u001b[36morg.jsoup.select.Elements\u001b[0m\n",
       "\u001b[32mimport \u001b[36mjava.net.URLEncoder\u001b[0m\n",
       "\u001b[36mresearchTopics\u001b[0m: \u001b[32mList\u001b[0m[\u001b[32mString\u001b[0m] = \u001b[33mList\u001b[0m(\n",
       "  \u001b[32m\"Functional Programming\"\u001b[0m,\n",
       "  \u001b[32m\"Object-Oriented Programming\"\u001b[0m,\n",
       "  \u001b[32m\"Imperative programming\"\u001b[0m,\n",
       "  \u001b[32m\"Dynamic Programming\"\u001b[0m\n",
       ")\n",
       "\u001b[36mresearchTopicTitles\u001b[0m: \u001b[32mList\u001b[0m[\u001b[32mString\u001b[0m] = \u001b[33mList\u001b[0m(\n",
       "  \u001b[32m\"Functional_Programming\"\u001b[0m,\n",
       "  \u001b[32m\"Object-Oriented_Programming\"\u001b[0m,\n",
       "  \u001b[32m\"Imperative_programming\"\u001b[0m,\n",
       "  \u001b[32m\"Dynamic_Programming\"\u001b[0m\n",
       ")\n",
       "\u001b[36mbackLinkUrl\u001b[0m: \u001b[32mString\u001b[0m = \u001b[32m\"http://dispenser.homenet.org/~dispenser/cgi-bin/backlinkscount.py?title=\"\u001b[0m\n",
       "\u001b[36mSOUrl\u001b[0m: \u001b[32mString\u001b[0m = \u001b[32m\"http://stackoverflow.com/search?q=\"\u001b[0m\n",
       "\u001b[36mcompleteTopicInfo\u001b[0m: \u001b[32mList\u001b[0m[(\u001b[32mString\u001b[0m, \u001b[32mInt\u001b[0m, \u001b[32mInt\u001b[0m, \u001b[32mString\u001b[0m)] = \u001b[33mList\u001b[0m(\n",
       "  \u001b[33m\u001b[0m(\u001b[32m\"Functional Programming\"\u001b[0m, \u001b[32m7418\u001b[0m, \u001b[32m14\u001b[0m, \u001b[32m\"35,497 results\"\u001b[0m),\n",
       "  \u001b[33m\u001b[0m(\u001b[32m\"Object-Oriented Programming\"\u001b[0m, \u001b[32m7603\u001b[0m, \u001b[32m24\u001b[0m, \u001b[32m\"12,660 results\"\u001b[0m),\n",
       "  \u001b[33m\u001b[0m(\u001b[32m\"Imperative programming\"\u001b[0m, \u001b[32m1672\u001b[0m, \u001b[32m671\u001b[0m, \u001b[32m\"\"\u001b[0m),\n",
       "  \u001b[33m\u001b[0m(\u001b[32m\"Dynamic Programming\"\u001b[0m, \u001b[32m10177\u001b[0m, \u001b[32m13\u001b[0m, \u001b[32m\"34,131 results\"\u001b[0m)\n",
       ")"
      ]
     },
     "metadata": {},
     "output_type": "display_data"
    }
   ],
   "source": [
    "import org.jsoup.Jsoup                                                                                                                                                                                                                      \n",
    "import org.jsoup.nodes.Document                                                                                                                                                                                                             \n",
    "                                                                                                                                                                                                                                              \n",
    "import collection.JavaConversions._                                                                                                                                                                                                         \n",
    "import org.jsoup.nodes.Element                                                                                                                                                                                                              \n",
    "import org.jsoup.select.Elements\n",
    "\n",
    "import java.net.URLEncoder\n",
    "\n",
    "val researchTopics = List(\"Functional Programming\", \"Object-Oriented Programming\", \"Imperative programming\", \"Dynamic Programming\")\n",
    "val researchTopicTitles = researchTopics.map(_.replaceAll(\"\\\\s\", \"_\"))\n",
    "\n",
    "val backLinkUrl = \"http://dispenser.homenet.org/~dispenser/cgi-bin/backlinkscount.py?title=\"\n",
    "val SOUrl = \"http://stackoverflow.com/search?q=\"\n",
    "val completeTopicInfo = for ( topic <- researchTopics;\n",
    "      topicTitle = topic.replaceAll(\"\\\\s\", \"_\");\n",
    "      topicUrl = URLEncoder.encode(topic, \"UTF-8\");\n",
    "      rawPage = Jsoup.connect(s\"http://en.wikipedia.org/wiki/$topicTitle\").get();\n",
    "      content = rawPage.select(\"div[id=content]\").first().text();\n",
    "      numWords = content.split(\"\\\\W+\").length;\n",
    "      toc = rawPage.select(\"div[id=toc]\").first();\n",
    "      tocSections = for (elem <- toc.select(\"ul li span[class=toctext]\")) yield { elem.text(); };\n",
    "      backLinkCount = Jsoup.connect(backLinkUrl + topicTitle).get().body.text().toInt;\n",
    "      soResults = Jsoup.connect( SOUrl + topicUrl).get().select(\".subheader.results-header h2\").text\n",
    "            \n",
    "\n",
    "    ) yield { (topic, numWords, backLinkCount, soResults) }"
   ]
  },
  {
   "cell_type": "code",
   "execution_count": 41,
   "metadata": {
    "collapsed": false
   },
   "outputs": [
    {
     "data": {
      "text/plain": [
       "\u001b[36mres40\u001b[0m: \u001b[32mList\u001b[0m[(\u001b[32mString\u001b[0m, \u001b[32mInt\u001b[0m, \u001b[32mInt\u001b[0m, \u001b[32mString\u001b[0m)] = \u001b[33mList\u001b[0m(\n",
       "  \u001b[33m\u001b[0m(\u001b[32m\"Functional Programming\"\u001b[0m, \u001b[32m7418\u001b[0m, \u001b[32m14\u001b[0m, \u001b[32m\"35,497 results\"\u001b[0m),\n",
       "  \u001b[33m\u001b[0m(\u001b[32m\"Object-Oriented Programming\"\u001b[0m, \u001b[32m7603\u001b[0m, \u001b[32m24\u001b[0m, \u001b[32m\"12,660 results\"\u001b[0m),\n",
       "  \u001b[33m\u001b[0m(\u001b[32m\"Imperative programming\"\u001b[0m, \u001b[32m1672\u001b[0m, \u001b[32m671\u001b[0m, \u001b[32m\"2,857 results\"\u001b[0m),\n",
       "  \u001b[33m\u001b[0m(\u001b[32m\"Dynamic Programming\"\u001b[0m, \u001b[32m10177\u001b[0m, \u001b[32m13\u001b[0m, \u001b[32m\"34,131 results\"\u001b[0m)\n",
       ")"
      ]
     },
     "metadata": {},
     "output_type": "display_data"
    }
   ],
   "source": [
    "completeTopicInfo"
   ]
  },
  {
   "cell_type": "code",
   "execution_count": null,
   "metadata": {
    "collapsed": true
   },
   "outputs": [],
   "source": []
  }
 ],
 "metadata": {
  "anaconda-cloud": {},
  "kernelspec": {
   "display_name": "Scala 2.11",
   "language": "scala211",
   "name": "scala211"
  },
  "language_info": {
   "codemirror_mode": "text/x-scala",
   "file_extension": ".scala",
   "mimetype": "text/x-scala",
   "name": "scala211",
   "pygments_lexer": "scala",
   "version": "2.11.8"
  }
 },
 "nbformat": 4,
 "nbformat_minor": 1
}
