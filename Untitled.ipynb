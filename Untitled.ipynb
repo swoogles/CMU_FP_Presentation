{
 "cells": [
  {
   "cell_type": "code",
   "execution_count": 2,
   "metadata": {
    "collapsed": false
   },
   "outputs": [
    {
     "data": {
      "text/plain": [
       "defined \u001b[32mtrait \u001b[36mGitObject\u001b[0m\n",
       "defined \u001b[32mclass \u001b[36mLeafCommit\u001b[0m\n",
       "defined \u001b[32mclass \u001b[36mBranchCommit\u001b[0m"
      ]
     },
     "metadata": {},
     "output_type": "display_data"
    }
   ],
   "source": [
    "sealed trait GitObject {\n",
    "  val linesAdded: List[(Int, String)]\n",
    "  val linesRemoved: List[Int]\n",
    "}\n",
    "\n",
    "case class LeafCommit(linesAdded: List[(Int, String)], linesRemoved: List[Int])\n",
    "    extends GitObject\n",
    "\n",
    "case class BranchCommit(linesAdded: List[(Int, String)], linesRemoved: List[Int], prevCommit: GitObject) \n",
    "    extends GitObject\n"
   ]
  },
  {
   "cell_type": "code",
   "execution_count": 4,
   "metadata": {
    "collapsed": false
   },
   "outputs": [
    {
     "data": {
      "text/plain": [
       "defined \u001b[32mobject \u001b[36mGitOperations\u001b[0m"
      ]
     },
     "metadata": {},
     "output_type": "display_data"
    }
   ],
   "source": [
    "object GitOperations {\n",
    "  def updateContent(contentSoFar: List[String], nextCommit: GitObject) = {\n",
    "\n",
    "    val contentWithLinesRemoved: List[String] = nextCommit.linesRemoved.reverse.foldLeft(contentSoFar) {\n",
    "      (innerContentSoFar, lineToRemove) => innerContentSoFar.take(lineToRemove) ++ innerContentSoFar.drop(lineToRemove + 1)\n",
    "    }\n",
    "\n",
    "    val contentWithLinesAdded: List[String] = nextCommit.linesAdded.foldLeft(contentWithLinesRemoved) { (innerContentSoFar, lineToAdd) =>\n",
    "      val (newLineIdx, newLineContent) = lineToAdd\n",
    "      val (contentBeginning, contentEnding) = innerContentSoFar.splitAt(newLineIdx)\n",
    "      contentBeginning ::: newLineContent :: contentEnding\n",
    "    }\n",
    "    contentWithLinesAdded\n",
    "  }\n",
    "\n",
    "\n",
    "  def completeHistory(history: List[GitObject]): List[List[String]] = {\n",
    "    history.scanLeft(List(\"\")) { (content, nextCommit) =>\n",
    "      updateContent(content, nextCommit)\n",
    "    }\n",
    "    history.scanLeft(List(\"\")) { updateContent }\n",
    "  }\n",
    "\n",
    "  def content(obj: GitObject): List[String] = {\n",
    "    obj match {\n",
    "      case initialCommit: LeafCommit => initialCommit.linesAdded.map { case (lineNum, line) => line }\n",
    "      case branch: BranchCommit =>\n",
    "        val contentSoFar = content(branch.prevCommit)\n",
    "        updateContent(contentSoFar, branch)\n",
    "    }\n",
    "  }\n",
    "\n",
    "}"
   ]
  },
  {
   "cell_type": "code",
   "execution_count": 5,
   "metadata": {
    "collapsed": false
   },
   "outputs": [
    {
     "data": {
      "text/plain": [
       "\u001b[36minitialCommit\u001b[0m: \u001b[32mLeafCommit\u001b[0m = \u001b[33mLeafCommit\u001b[0m(\u001b[33mList\u001b[0m(\u001b[33m\u001b[0m(\u001b[32m0\u001b[0m, \u001b[32m\"package immutable\"\u001b[0m), \u001b[33m\u001b[0m(\u001b[32m1\u001b[0m, \u001b[32m\"\"\u001b[0m)), \u001b[33mList\u001b[0m())\n",
       "\u001b[36maddMutableDataClasses\u001b[0m: \u001b[32mBranchCommit\u001b[0m = BranchCommit(List((2,case class Motorcycle(var fuel: Int, var location: Location)), (3,case class Person(var name: String, var location: Location)), (4,)),List(),LeafCommit(List((0,package immutable), (1,)),List()))\n",
       "\u001b[36maddImmutableDataClasses\u001b[0m: \u001b[32mBranchCommit\u001b[0m = BranchCommit(List((2,case class Motorcycle(fuel: Int, location: Location)), (3,case class Person(name: String, location: Location)), (4,)),List(2, 3, 4),BranchCommit(List((2,case class Motorcycle(var fuel: Int, var location: Location)), (3,case class Person(var name: String, var location: Location)), (4,)),List(),LeafCommit(List((0,package immutable), (1,)),List())))\n",
       "\u001b[36maddLocations\u001b[0m: \u001b[32mBranchCommit\u001b[0m = BranchCommit(List((2,sealed trait Location), (3,case object School extends Location), (4,case object Home extends Location), (5,case object Restaurant extends Location), (6,)),List(),BranchCommit(List((2,case class Motorcycle(fuel: Int, location: Location)), (3,case class Person(name: String, location: Location)), (4,)),List(2, 3, 4),BranchCommit(List((2,case class Motorcycle(var fuel: Int, var location: Location)), (3,case class Person(var name: String, var location: Location)), (4,)),List(),LeafCommit(List((0,package immutable), (1,)),List()))))\n",
       "\u001b[36maddMotorcycleFunctions\u001b[0m: \u001b[32mBranchCommit\u001b[0m = BranchCommit(List((1,), (2,import scala.util.{Failure, Success, Try}), (12,object MotorcycleFunctions {), (13,  val tripCost = 20), (14,), (15,  def drive(motorcycle: Motorcycle, destination: Location): Try[Motorcycle] = {), (16,    motorcycle match {), (17,      case Motorcycle(_, location) if (location == destination) => Success(motorcycle)), (18,      case Motorcycle(fuel, _) if (fuel >= tripCost) => Success(Motorcycle(motorcycle.fuel - tripCost, destination))), (19,      case _ => Failure(new Exception(\"Ran out of gas!\"))), (20,    }), (21,  }), (22,})),List(),BranchCommit(List((2,case class Motorcycle(fuel: Int, location: Location)), (3,case class Person(name: String, location: Location)), (4,)),List(2, 3, 4),BranchCommit(List((2,case class Motorcycle(var fuel: Int, var location: Location)), (3,case class Person(var name: String, var location: Location)), (4,)),List(),LeafCommit(List((0,package immutable), (1,)),List()))))\n",
       "\u001b[36mallCommitsInOrder\u001b[0m: \u001b[32mList\u001b[0m[\u001b[32mProduct\u001b[0m with \u001b[32mSerializable\u001b[0m with \u001b[32mGitObject\u001b[0m] = \u001b[33mList\u001b[0m(\n",
       "  LeafCommit(List((0,package immutable), (1,)),List()),\n",
       "  BranchCommit(List((2,case class Motorcycle(var fuel: Int, var location: Location)), (3,case class Person(var name: String, var location: Location)), (4,)),List(),LeafCommit(List((0,package immutable), (1,)),List())),\n",
       "  BranchCommit(List((2,case class Motorcycle(fuel: Int, location: Location)), (3,case class Person(name: String, location: Location)), (4,)),List(2, 3, 4),BranchCommit(List((2,case class Motorcycle(var fuel: Int, var location: Location)), (3,case class Person(var name: String, var location: Location)), (4,)),List(),LeafCommit(List((0,package immutable), (1,)),List()))),\n",
       "  BranchCommit(List((2,sealed trait Location), (3,case object School extends Location), (4,case object Home extends Location), (5,case object Restaurant extends Location), (6,)),List(),BranchCommit(List((2,case class Motorcycle(fuel: Int, location: Location)), (3,case class Person(name: String, location: Location)), (4,)),List(2, 3, 4),BranchCommit(List((2,case class Motorcycle(var fuel: Int, var location: Location)), (3,case class Person(var name: String, var location: Location)), (4,)),List(),LeafCommit(List((0,package immutable), (1,)),List())))),\n",
       "  BranchCommit(List((1,), (2,import scala.util.{Failure, Success, Try}), (12,object MotorcycleFunctions {), (13,  val tripCost = 20), (14,), (15,  def drive(motorcycle: Motorcycle, destination: Location): Try[Motorcycle] = {), (16,    motor\u001b[33m...\u001b[0m"
      ]
     },
     "metadata": {},
     "output_type": "display_data"
    }
   ],
   "source": [
    "  val initialCommit = LeafCommit(\n",
    "    List(\n",
    "      (0, \"package immutable\"),\n",
    "      (1, \"\")\n",
    "    ),\n",
    "    List()\n",
    "  )\n",
    "\n",
    "  val addMutableDataClasses = BranchCommit(\n",
    "    List(\n",
    "      (2, \"case class Motorcycle(var fuel: Int, var location: Location)\"),\n",
    "      (3, \"case class Person(var name: String, var location: Location)\"),\n",
    "      (4, \"\")\n",
    "    ),\n",
    "    List(),\n",
    "    initialCommit\n",
    "  )\n",
    "\n",
    "  val addImmutableDataClasses = BranchCommit(\n",
    "    List(\n",
    "      (2, \"case class Motorcycle(fuel: Int, location: Location)\"),\n",
    "      (3, \"case class Person(name: String, location: Location)\"),\n",
    "      (4, \"\")\n",
    "    ),\n",
    "    List(2, 3, 4),\n",
    "    addMutableDataClasses\n",
    "  )\n",
    "\n",
    "  val addLocations = BranchCommit(\n",
    "    List(\n",
    "      (2, \"sealed trait Location\"),\n",
    "      (3, \"case object School extends Location\"),\n",
    "      (4, \"case object Home extends Location\"),\n",
    "      (5, \"case object Restaurant extends Location\"),\n",
    "      (6, \"\")\n",
    "    ),\n",
    "    List(),\n",
    "    addImmutableDataClasses\n",
    "  )\n",
    "\n",
    "  val addMotorcycleFunctions = BranchCommit(\n",
    "    List(\n",
    "      (1, \"\"),\n",
    "      (2, \"import scala.util.{Failure, Success, Try}\"),\n",
    "      (12, \"object MotorcycleFunctions {\"),\n",
    "      (13, \"  val tripCost = 20\"),\n",
    "      (14, \"\"),\n",
    "      (15, \"  def drive(motorcycle: Motorcycle, destination: Location): Try[Motorcycle] = {\"),\n",
    "      (16, \"    motorcycle match {\"),\n",
    "      (17, \"      case Motorcycle(_, location) if (location == destination) => Success(motorcycle)\"),\n",
    "      (18, \"      case Motorcycle(fuel, _) if (fuel >= tripCost) => Success(Motorcycle(motorcycle.fuel - tripCost, destination))\"),\n",
    "      (19, \"      case _ => Failure(new Exception(\\\"Ran out of gas!\\\"))\"),\n",
    "      (20, \"    }\"),\n",
    "      (21, \"  }\"),\n",
    "      (22, \"}\")\n",
    "    ),\n",
    "    List(),\n",
    "    addImmutableDataClasses\n",
    "  )\n",
    "\n",
    "  val allCommitsInOrder = List(\n",
    "    initialCommit,\n",
    "    addMutableDataClasses,\n",
    "    addImmutableDataClasses,\n",
    "    addLocations,\n",
    "    addMotorcycleFunctions\n",
    "  )"
   ]
  },
  {
   "cell_type": "code",
   "execution_count": 7,
   "metadata": {
    "collapsed": false
   },
   "outputs": [
    {
     "data": {
      "text/plain": [
       "\u001b[36mres6\u001b[0m: \u001b[32mString\u001b[0m = \u001b[32m\"\"\"\n",
       "package immutable\n",
       "\n",
       "sealed trait Location\n",
       "case object School extends Location\n",
       "case object Home extends Location\n",
       "case object Restaurant extends Location\n",
       "\n",
       "case class Motorcycle(fuel: Int, location: Location)\n",
       "case class Person(name: String, location: Location)\n",
       "\n",
       "\"\"\"\u001b[0m"
      ]
     },
     "metadata": {},
     "output_type": "display_data"
    }
   ],
   "source": [
    "GitOperations.content(addLocations).mkString(\"\\n\")\n"
   ]
  }
 ],
 "metadata": {
  "kernelspec": {
   "display_name": "Scala 2.11",
   "language": "scala211",
   "name": "scala211"
  },
  "language_info": {
   "codemirror_mode": "text/x-scala",
   "file_extension": ".scala",
   "mimetype": "text/x-scala",
   "name": "scala211",
   "pygments_lexer": "scala",
   "version": "2.11.8"
  }
 },
 "nbformat": 4,
 "nbformat_minor": 1
}
