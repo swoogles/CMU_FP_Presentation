{
 "cells": [
  {
   "cell_type": "code",
   "execution_count": 2,
   "metadata": {
    "collapsed": false
   },
   "outputs": [
    {
     "data": {
      "text/plain": [
       "defined \u001b[32mclass \u001b[36mPerson\u001b[0m"
      ]
     },
     "metadata": {},
     "output_type": "display_data"
    }
   ],
   "source": [
    "case class Person(name: String, age: Int, money: Double)\n"
   ]
  },
  {
   "cell_type": "code",
   "execution_count": 15,
   "metadata": {
    "collapsed": false
   },
   "outputs": [
    {
     "data": {
      "text/plain": [
       "defined \u001b[32mtrait \u001b[36mLocation\u001b[0m\n",
       "defined \u001b[32mobject \u001b[36mSchool\u001b[0m\n",
       "defined \u001b[32mobject \u001b[36mHome\u001b[0m\n",
       "defined \u001b[32mobject \u001b[36mRestaurant\u001b[0m\n",
       "defined \u001b[32mobject \u001b[36mSandbox\u001b[0m"
      ]
     },
     "metadata": {},
     "output_type": "display_data"
    }
   ],
   "source": [
    "sealed trait Location\n",
    "case object School extends Location\n",
    "case object Home extends Location\n",
    "case object Restaurant extends Location\n",
    "object Sandbox {\n",
    "\n",
    "    def visit(location: Location) = location match {\n",
    "        case School => \"School!\"\n",
    "        case Home => \"Home!\"\n",
    "    }\n",
    "}"
   ]
  },
  {
   "cell_type": "code",
   "execution_count": 13,
   "metadata": {
    "collapsed": false
   },
   "outputs": [
    {
     "data": {
      "text/plain": [
       "\u001b[36mres12\u001b[0m: \u001b[32mString\u001b[0m = \u001b[32m\"School!\"\u001b[0m"
      ]
     },
     "metadata": {},
     "output_type": "display_data"
    }
   ],
   "source": [
    "Sandbox.visit(Restaurant)"
   ]
  }
 ],
 "metadata": {
  "anaconda-cloud": {},
  "kernelspec": {
   "display_name": "Scala 2.11",
   "language": "scala211",
   "name": "scala211"
  },
  "language_info": {
   "codemirror_mode": "text/x-scala",
   "file_extension": ".scala",
   "mimetype": "text/x-scala",
   "name": "scala211",
   "pygments_lexer": "scala",
   "version": "2.11.8"
  }
 },
 "nbformat": 4,
 "nbformat_minor": 1
}
