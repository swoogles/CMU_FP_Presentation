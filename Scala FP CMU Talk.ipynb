{
 "cells": [
  {
   "cell_type": "code",
   "execution_count": 2,
   "metadata": {
    "collapsed": false,
    "nbpresent": {
     "id": "12e4f098-7f01-43d8-908a-376fa2fb6fa0"
    }
   },
   "outputs": [
    {
     "data": {
      "text/plain": [
       "\u001b[32mimport \u001b[36mscala.util.{Failure, Success, Try}\u001b[0m\n",
       "defined \u001b[32mtrait \u001b[36mLocation\u001b[0m\n",
       "defined \u001b[32mobject \u001b[36mSchool\u001b[0m\n",
       "defined \u001b[32mobject \u001b[36mHome\u001b[0m\n",
       "defined \u001b[32mobject \u001b[36mRestaurant\u001b[0m\n",
       "defined \u001b[32mclass \u001b[36mMotorcycle\u001b[0m\n",
       "defined \u001b[32mobject \u001b[36mMotorcycleFunctions\u001b[0m\n",
       "\u001b[36mpristineMotorcycle\u001b[0m: \u001b[32m$user\u001b[0m.\u001b[32mMotorcycle\u001b[0m = Motorcycle(100,Home)"
      ]
     },
     "metadata": {},
     "output_type": "display_data"
    }
   ],
   "source": [
    "import scala.util.{Failure, Success, Try}\n",
    "\n",
    "sealed trait Location\n",
    "case object School extends Location\n",
    "case object Home extends Location\n",
    "case object Restaurant extends Location\n",
    "\n",
    "case class Motorcycle(fuel: Int, location: Location)\n",
    "\n",
    "object MotorcycleFunctions {\n",
    "  val tripCost = 20\n",
    "\n",
    "  def drive(motorcycle: Motorcycle, destination: Location): Try[Motorcycle] = {\n",
    "    motorcycle match {\n",
    "      case Motorcycle(_, location) if (location == destination) => Success(motorcycle)\n",
    "      case Motorcycle(fuel, _) if (fuel >= tripCost) => Success(Motorcycle(motorcycle.fuel - tripCost, destination))\n",
    "      case _ => Failure(new Exception(\"Ran out of gas!\"))\n",
    "    }\n",
    "  }\n",
    "}\n",
    "\n",
    "val pristineMotorcycle = Motorcycle(100, Home)"
   ]
  },
  {
   "cell_type": "code",
   "execution_count": 18,
   "metadata": {
    "collapsed": false
   },
   "outputs": [
    {
     "data": {
      "text/plain": [
       "\u001b[36mres17\u001b[0m: \u001b[32mMotorcycle\u001b[0m = Motorcycle(50,Home)"
      ]
     },
     "metadata": {},
     "output_type": "display_data"
    }
   ],
   "source": [
    "pristineMotorcycle.copy(fuel=50)"
   ]
  },
  {
   "cell_type": "code",
   "execution_count": 19,
   "metadata": {
    "collapsed": false
   },
   "outputs": [
    {
     "data": {
      "text/plain": [
       "\u001b[36mres18\u001b[0m: \u001b[32mMotorcycle\u001b[0m = Motorcycle(50,School)"
      ]
     },
     "metadata": {},
     "output_type": "display_data"
    }
   ],
   "source": [
    "pristineMotorcycle.copy(fuel=50).copy(location=School)"
   ]
  },
  {
   "cell_type": "code",
   "execution_count": 3,
   "metadata": {
    "collapsed": false,
    "nbpresent": {
     "id": "bb8fbeed-ddd0-4890-9ea2-390b7351240c"
    }
   },
   "outputs": [
    {
     "data": {
      "text/plain": [
       "\u001b[36mres2\u001b[0m: \u001b[32mTry\u001b[0m[\u001b[32mMotorcycle\u001b[0m] = Success(Motorcycle(100,Home))"
      ]
     },
     "metadata": {},
     "output_type": "display_data"
    }
   ],
   "source": [
    "MotorcycleFunctions.drive(pristineMotorcycle, Home)"
   ]
  },
  {
   "cell_type": "code",
   "execution_count": 12,
   "metadata": {
    "collapsed": false,
    "nbpresent": {
     "id": "ec6c1734-815d-4502-b7e8-47bc110c4dca"
    }
   },
   "outputs": [
    {
     "data": {
      "text/plain": [
       "\u001b[36mres11\u001b[0m: \u001b[32mTry\u001b[0m[\u001b[32mMotorcycle\u001b[0m] = Success(Motorcycle(80,School))"
      ]
     },
     "metadata": {},
     "output_type": "display_data"
    }
   ],
   "source": [
    "MotorcycleFunctions.drive(pristineMotorcycle, School)"
   ]
  },
  {
   "cell_type": "code",
   "execution_count": 15,
   "metadata": {
    "collapsed": false,
    "nbpresent": {
     "id": "e73a2dee-2136-4ce2-9fd1-c15e68427d09"
    }
   },
   "outputs": [
    {
     "data": {
      "text/plain": [
       "\u001b[36memptyMotorcycle\u001b[0m: \u001b[32mMotorcycle\u001b[0m = Motorcycle(0,Home)\n",
       "\u001b[36mres14_1\u001b[0m: \u001b[32mTry\u001b[0m[\u001b[32mMotorcycle\u001b[0m] = Success(Motorcycle(0,Home))"
      ]
     },
     "metadata": {},
     "output_type": "display_data"
    }
   ],
   "source": [
    "val emptyMotorcycle = pristineMotorcycle.copy(fuel=0)\n",
    "MotorcycleFunctions.drive(emptyMotorcycle, Home)"
   ]
  },
  {
   "cell_type": "code",
   "execution_count": 8,
   "metadata": {
    "collapsed": false,
    "nbpresent": {
     "id": "a0f1d9ae-e816-44bd-8697-e8ffb9a88bd5"
    }
   },
   "outputs": [
    {
     "data": {
      "text/plain": [
       "\u001b[36memptyMotorcycle\u001b[0m: \u001b[32mMotorcycle\u001b[0m = Motorcycle(0,Home)\n",
       "\u001b[36mres7_1\u001b[0m: \u001b[32mTry\u001b[0m[\u001b[32mMotorcycle\u001b[0m] = Failure(java.lang.Exception: Ran out of gas!)"
      ]
     },
     "metadata": {},
     "output_type": "display_data"
    }
   ],
   "source": [
    "val emptyMotorcycle = pristineMotorcycle.copy(fuel=0)\n",
    "MotorcycleFunctions.drive(emptyMotorcycle, School)"
   ]
  },
  {
   "cell_type": "code",
   "execution_count": 20,
   "metadata": {
    "collapsed": false
   },
   "outputs": [
    {
     "data": {
      "text/plain": [
       "\u001b[36mtupleExample\u001b[0m: (\u001b[32mInt\u001b[0m, \u001b[32mString\u001b[0m, \u001b[32mDouble\u001b[0m) = \u001b[33m\u001b[0m(\u001b[32m42\u001b[0m, \u001b[32m\"Hello\"\u001b[0m, \u001b[32m10.0\u001b[0m)"
      ]
     },
     "metadata": {},
     "output_type": "display_data"
    }
   ],
   "source": [
    "val tupleExample = (42, \"Hello\", 10.0)"
   ]
  }
 ],
 "metadata": {
  "anaconda-cloud": {},
  "kernelspec": {
   "display_name": "Scala 2.11",
   "language": "scala211",
   "name": "scala211"
  },
  "language_info": {
   "codemirror_mode": "text/x-scala",
   "file_extension": ".scala",
   "mimetype": "text/x-scala",
   "name": "scala211",
   "pygments_lexer": "scala",
   "version": "2.11.8"
  },
  "nbpresent": {
   "slides": {
    "09445c03-434d-465e-adaf-976f9109c79c": {
     "id": "09445c03-434d-465e-adaf-976f9109c79c",
     "prev": "c5f1a3db-f352-4993-9e2c-5e6d6b696ecf",
     "regions": {
      "741e35a9-37c2-42ae-ab62-64c6cf4b6040": {
       "attrs": {
        "height": 0.8,
        "width": 0.8,
        "x": 0.1,
        "y": 0.1
       },
       "content": {
        "cell": "bb8fbeed-ddd0-4890-9ea2-390b7351240c",
        "part": "whole"
       },
       "id": "741e35a9-37c2-42ae-ab62-64c6cf4b6040"
      }
     }
    },
    "2e594ce8-50dc-4574-955f-4341a23f3c7c": {
     "id": "2e594ce8-50dc-4574-955f-4341a23f3c7c",
     "prev": "a2fbfb04-78fe-4863-95eb-b3640484baaa",
     "regions": {
      "c464e284-5db1-47ec-9af6-1444c5d8e31b": {
       "attrs": {
        "height": 0.8,
        "width": 0.8,
        "x": 0.1,
        "y": 0.1
       },
       "content": {
        "cell": "a0f1d9ae-e816-44bd-8697-e8ffb9a88bd5",
        "part": "whole"
       },
       "id": "c464e284-5db1-47ec-9af6-1444c5d8e31b"
      }
     }
    },
    "6f7e1d51-b8de-4031-8c7c-b6f075b0934c": {
     "id": "6f7e1d51-b8de-4031-8c7c-b6f075b0934c",
     "prev": null,
     "regions": {
      "5e566d4e-6da8-4bbe-991e-9fce5f4d582e": {
       "attrs": {
        "height": 0.8,
        "width": 0.8,
        "x": 0.1,
        "y": 0.1
       },
       "content": {
        "cell": "e19b6410-2377-4c2b-9195-64d94ea74b93",
        "part": "whole"
       },
       "id": "5e566d4e-6da8-4bbe-991e-9fce5f4d582e"
      }
     }
    },
    "8eb399a6-82c6-42bb-a94e-0af108978b70": {
     "id": "8eb399a6-82c6-42bb-a94e-0af108978b70",
     "prev": "09445c03-434d-465e-adaf-976f9109c79c",
     "regions": {
      "221f78a9-284e-44ce-b1d8-5e5947aafbbf": {
       "attrs": {
        "height": 0.8,
        "width": 0.8,
        "x": 0.1,
        "y": 0.1
       },
       "content": {
        "cell": "ec6c1734-815d-4502-b7e8-47bc110c4dca",
        "part": "whole"
       },
       "id": "221f78a9-284e-44ce-b1d8-5e5947aafbbf"
      }
     }
    },
    "a2fbfb04-78fe-4863-95eb-b3640484baaa": {
     "id": "a2fbfb04-78fe-4863-95eb-b3640484baaa",
     "prev": "8eb399a6-82c6-42bb-a94e-0af108978b70",
     "regions": {
      "c8e9d626-dcd1-4fd6-8b7b-ff7f7cc37d70": {
       "attrs": {
        "height": 0.8,
        "width": 0.8,
        "x": 0.1,
        "y": 0.1
       },
       "content": {
        "cell": "e73a2dee-2136-4ce2-9fd1-c15e68427d09",
        "part": "whole"
       },
       "id": "c8e9d626-dcd1-4fd6-8b7b-ff7f7cc37d70"
      }
     }
    },
    "c5f1a3db-f352-4993-9e2c-5e6d6b696ecf": {
     "id": "c5f1a3db-f352-4993-9e2c-5e6d6b696ecf",
     "prev": "dedc6aba-71e5-4df0-af40-b991be512695",
     "regions": {
      "79a56ca5-82dd-4c54-a3f5-ebd2bfcb981d": {
       "attrs": {
        "height": 0.8,
        "width": 0.8,
        "x": 0.1,
        "y": 0.1
       },
       "content": {
        "cell": "12e4f098-7f01-43d8-908a-376fa2fb6fa0",
        "part": "whole"
       },
       "id": "79a56ca5-82dd-4c54-a3f5-ebd2bfcb981d"
      }
     }
    },
    "dedc6aba-71e5-4df0-af40-b991be512695": {
     "id": "dedc6aba-71e5-4df0-af40-b991be512695",
     "prev": "6f7e1d51-b8de-4031-8c7c-b6f075b0934c",
     "regions": {
      "52b356ac-11a1-4c56-bb13-4594283a73f5": {
       "attrs": {
        "height": 0.8,
        "width": 0.8,
        "x": 0.1,
        "y": 0.1
       },
       "content": {
        "cell": "b73f9130-773c-484e-89f6-12d5102d7835",
        "part": "whole"
       },
       "id": "52b356ac-11a1-4c56-bb13-4594283a73f5"
      }
     }
    }
   },
   "themes": {}
  }
 },
 "nbformat": 4,
 "nbformat_minor": 1
}
