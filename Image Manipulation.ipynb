{
 "cells": [
  {
   "cell_type": "markdown",
   "metadata": {},
   "source": [
    "# Hello, _nbpresent_!"
   ]
  },
  {
   "cell_type": "code",
   "execution_count": null,
   "metadata": {
    "collapsed": true
   },
   "outputs": [],
   "source": [
    "import nbpresent\n",
    "nbpresent.__version__"
   ]
  },
  {
   "cell_type": "code",
   "execution_count": 3,
   "metadata": {
    "collapsed": false,
    "nbpresent": {
     "id": "7f6bb565-8d9d-4161-8916-e1b3b592f255"
    }
   },
   "outputs": [
    {
     "name": "stdout",
     "output_type": "stream",
     "text": [
      "0 new artifact(s)\n",
      "0 new artifact(s)\n",
      "0 new artifact(s)\n",
      "0 new artifact(s)\n"
     ]
    },
    {
     "data": {
      "text/plain": []
     },
     "metadata": {},
     "output_type": "display_data"
    }
   ],
   "source": [
    "classpath.add(\"com.lihaoyi\" %% \"ammonite-ops\" % \"0.7.8\")\n",
    "classpath.add(\"com.sksamuel.scrimage\" %% \"scrimage-core\" % \"2.1.0\")                                                                                                                                                                           \n",
    "classpath.add(\"com.sksamuel.scrimage\" %% \"scrimage-io-extra\" % \"2.1.0\")                                                                                                                                                                       \n",
    "classpath.add(\"com.sksamuel.scrimage\" %% \"scrimage-filters\" % \"2.1.0\")  "
   ]
  },
  {
   "cell_type": "code",
   "execution_count": 8,
   "metadata": {
    "collapsed": false,
    "nbpresent": {
     "id": "20fbc550-7132-47bd-840a-ae9fc25a9c27"
    }
   },
   "outputs": [
    {
     "data": {
      "text/plain": [
       "\u001b[32mimport \u001b[36mammonite.ops._\u001b[0m\n",
       "\u001b[32mimport \u001b[36mcom.sksamuel.scrimage.Image\u001b[0m"
      ]
     },
     "metadata": {},
     "output_type": "display_data"
    }
   ],
   "source": [
    "import ammonite.ops._\n",
    "import com.sksamuel.scrimage.Image"
   ]
  },
  {
   "cell_type": "code",
   "execution_count": 6,
   "metadata": {
    "collapsed": false,
    "nbpresent": {
     "id": "436c138e-3fc6-40a0-b245-df87b413ae97"
    }
   },
   "outputs": [
    {
     "data": {
      "text/plain": [
       "\u001b[36moriginalImgDir\u001b[0m: \u001b[32mcwd\u001b[0m.\u001b[32mThisType\u001b[0m = /home/bfrasure/JupyterProjects/OriginalImages\n",
       "\u001b[36mlisted\u001b[0m: \u001b[32mLsSeq\u001b[0m = \u001b[33mLsSeq\u001b[0m(\n",
       "  /home/bfrasure/JupyterProjects/OriginalImages/IMG_2184.JPG,\n",
       "  /home/bfrasure/JupyterProjects/OriginalImages/IMG_2589.JPG,\n",
       "  /home/bfrasure/JupyterProjects/OriginalImages/SARAnight.jpg,\n",
       "  /home/bfrasure/JupyterProjects/OriginalImages/rollercoaster_ride.jpg\n",
       ")"
      ]
     },
     "metadata": {},
     "output_type": "display_data"
    }
   ],
   "source": [
    "val originalImgDir = cwd / 'OriginalImages\n",
    "val listed = ls! originalImgDir"
   ]
  },
  {
   "cell_type": "code",
   "execution_count": 9,
   "metadata": {
    "collapsed": false,
    "nbpresent": {
     "id": "08b1a112-b767-4318-8893-cba34983c73d"
    }
   },
   "outputs": [
    {
     "data": {
      "text/plain": [
       "\u001b[36mmanipulatedImgDir\u001b[0m: \u001b[32mcwd\u001b[0m.\u001b[32mThisType\u001b[0m = /home/bfrasure/JupyterProjects/ManipulatedImages\n",
       "defined \u001b[32mfunction \u001b[36mcopyFreshImages\u001b[0m"
      ]
     },
     "metadata": {},
     "output_type": "display_data"
    }
   ],
   "source": [
    "val manipulatedImgDir = cwd / 'ManipulatedImages\n",
    "\n",
    "def copyFreshImages(srcDir: Path, targetDir: Path): LsSeq = {\n",
    "rm! targetDir\n",
    "mkdir! targetDir\n",
    "for ( file <- (ls! srcDir) ) { cp.into(file, targetDir)  }\n",
    "ls! targetDir\n",
    "}"
   ]
  },
  {
   "cell_type": "code",
   "execution_count": 12,
   "metadata": {
    "collapsed": false,
    "nbpresent": {
     "id": "9dbc5a7f-2804-436e-84c8-16731ff8d6cc"
    }
   },
   "outputs": [
    {
     "data": {
      "text/plain": [
       "\u001b[32mimport \u001b[36mcom.sksamuel.scrimage.Image\u001b[0m\n",
       "\u001b[32mimport \u001b[36mcom.sksamuel.scrimage.ScaleMethod.FastScale\u001b[0m\n",
       "\u001b[32mimport \u001b[36mcom.sksamuel.scrimage.filter.TwirlFilter\u001b[0m\n",
       "\u001b[32mimport \u001b[36mcom.sksamuel.scrimage.filter.EdgeFilter\u001b[0m\n",
       "\u001b[32mimport \u001b[36mcom.sksamuel.scrimage.filter.SnowFilter\u001b[0m\n",
       "\u001b[32mimport \u001b[36mcom.sksamuel.scrimage.nio.JpegWriter\u001b[0m\n",
       "\u001b[32mimport \u001b[36mcom.sksamuel.scrimage.Color\u001b[0m\n",
       "\u001b[32mimport \u001b[36mcom.sksamuel.scrimage.filter.{RippleFilter, RippleType}\u001b[0m\n",
       "\u001b[32mimport \u001b[36mjavax.imageio.ImageIO\u001b[0m\n",
       "\u001b[32mimport \u001b[36mjava.awt.Graphics\u001b[0m\n",
       "\u001b[32mimport \u001b[36mscala.concurrent.ExecutionContext.Implicits.global\u001b[0m\n",
       "\u001b[36mrippleAmplitude\u001b[0m: \u001b[32mFloat\u001b[0m = \u001b[32m30.0F\u001b[0m\n",
       "\u001b[36mrippleWaveLength\u001b[0m: \u001b[32mFloat\u001b[0m = \u001b[32m50.0F\u001b[0m\n",
       "defined \u001b[32mfunction \u001b[36maddTextToImg\u001b[0m\n",
       "\u001b[36mres11_14\u001b[0m: \u001b[32mSeq\u001b[0m[\u001b[32mjava\u001b[0m.\u001b[32mio\u001b[0m.\u001b[32mFile\u001b[0m] = \u001b[33mList\u001b[0m(\n",
       "  /home/bfrasure/JupyterProjects/ManipulatedImages/IMG_2184.JPG,\n",
       "  /home/bfrasure/JupyterProjects/ManipulatedImages/IMG_2589.JPG,\n",
       "  /home/bfrasure/JupyterProjects/ManipulatedImages/SARAnight.jpg,\n",
       "  /home/bfrasure/JupyterProjects/ManipulatedImages/rollercoaster_ride.jpg\n",
       ")"
      ]
     },
     "metadata": {},
     "output_type": "display_data"
    }
   ],
   "source": [
    "import com.sksamuel.scrimage.Image\n",
    "import com.sksamuel.scrimage.ScaleMethod.FastScale\n",
    "import com.sksamuel.scrimage.filter.TwirlFilter\n",
    "import com.sksamuel.scrimage.filter.EdgeFilter\n",
    "import com.sksamuel.scrimage.filter.SnowFilter\n",
    "import com.sksamuel.scrimage.nio.JpegWriter\n",
    "import com.sksamuel.scrimage.Color\n",
    "import com.sksamuel.scrimage.filter.{RippleFilter, RippleType}\n",
    "\n",
    "import javax.imageio.ImageIO\n",
    "import java.awt.Graphics\n",
    "\n",
    "// Needed for SnowFilter for some weird reason.\n",
    "import scala.concurrent.ExecutionContext.Implicits.global\n",
    "\n",
    "val rippleAmplitude = 30f\n",
    "val rippleWaveLength = 50f\n",
    "\n",
    "def addTextToImg(imgPath: Path, text: String) = {\n",
    "    val graphicsImg = ImageIO.read(imgPath.toIO)\n",
    "    val height = graphicsImg.getHeight\n",
    "    val width = graphicsImg.getWidth\n",
    "    val g = graphicsImg.getGraphics();\n",
    "    g.setFont(g.getFont().deriveFont(200f));\n",
    "    g.drawString(text, 100, height - 100);\n",
    "    g.dispose();\n",
    "    ImageIO.write(graphicsImg, \"jpg\", imgPath.toIO);\n",
    "}\n",
    "\n",
    "for (imgPath <- copyFreshImages(originalImgDir, manipulatedImgDir);\n",
    "     // img = Image.fromFile(imgPath.toIO).scaleTo(800, 600, FastScale).filter(TwirlFilter(200)).output(imgPath.toIO)(JpegWriter())\n",
    "    img = Image.fromFile(imgPath.toIO)\n",
    "//      .scaleTo(800, 600, FastScale)\n",
    "     .filter(\n",
    "//         TwirlFilter(1000)\n",
    "//          new RippleFilter(RippleType.Sine, rippleAmplitude, rippleAmplitude, rippleWaveLength, rippleWaveLength)\n",
    "//          EdgeFilter\n",
    "         SnowFilter()\n",
    "    ).pad(300, Color.Black)\n",
    "     .output(imgPath.toIO)(JpegWriter())\n",
    "    ) yield { \n",
    "    addTextToImg(imgPath, \"Happy Holidays!\")\n",
    "    img \n",
    "}"
   ]
  },
  {
   "cell_type": "code",
   "execution_count": null,
   "metadata": {
    "collapsed": true,
    "nbpresent": {
     "id": "25a97aae-036b-4381-b8b1-fb7cf425f0c9"
    }
   },
   "outputs": [],
   "source": []
  }
 ],
 "metadata": {
  "anaconda-cloud": {},
  "kernelspec": {
   "display_name": "Scala 2.11",
   "language": "scala211",
   "name": "scala211"
  },
  "language_info": {
   "codemirror_mode": "text/x-scala",
   "file_extension": ".scala",
   "mimetype": "text/x-scala",
   "name": "scala211",
   "pygments_lexer": "scala",
   "version": "2.11.8"
  },
  "nbpresent": {
   "slides": {
    "059bd838-7fcc-4bc2-9a70-791937ae60fc": {
     "id": "059bd838-7fcc-4bc2-9a70-791937ae60fc",
     "layout": "grid",
     "prev": "3f3488c4-9663-4148-81c2-6efeca3a3182",
     "regions": {
      "21a84321-f4b8-4f50-ba30-02d7f888116d": {
       "attrs": {
        "height": 0.16666666666666666,
        "pad": 0.01,
        "width": 0.3333333333333333,
        "x": 0.08333333333333333,
        "y": 0.8333333333333334
       },
       "id": "21a84321-f4b8-4f50-ba30-02d7f888116d"
      },
      "2b621938-4dd5-4435-8471-4ff8e9177351": {
       "attrs": {
        "height": 0.08333333333333333,
        "pad": 0.01,
        "width": 0.3333333333333333,
        "x": 0.08333333333333333,
        "y": 0.6666666666666666
       },
       "id": "2b621938-4dd5-4435-8471-4ff8e9177351"
      },
      "b36ddbe7-6c90-4735-8d00-c43e4b3b22e5": {
       "attrs": {
        "height": 0.08333333333333333,
        "pad": 0.01,
        "width": 0.3333333333333333,
        "x": 0.08333333333333333,
        "y": 0.4166666666666667
       },
       "id": "b36ddbe7-6c90-4735-8d00-c43e4b3b22e5"
      },
      "b78bce71-0b41-4c46-bbeb-b3abaccba6dc": {
       "attrs": {
        "height": 0.08333333333333333,
        "pad": 0.01,
        "width": 0.3333333333333333,
        "x": 0.08333333333333333,
        "y": 0.5
       },
       "id": "b78bce71-0b41-4c46-bbeb-b3abaccba6dc"
      },
      "c27b44e9-6fe5-469d-bfe7-080d29d83da5": {
       "attrs": {
        "height": 0.08333333333333333,
        "pad": 0.01,
        "width": 0.3333333333333333,
        "x": 0.5,
        "y": 0.3333333333333333
       },
       "id": "c27b44e9-6fe5-469d-bfe7-080d29d83da5"
      },
      "c2bc8a4a-3d10-42ea-a502-addfa48d30aa": {
       "attrs": {
        "height": 0.08333333333333333,
        "pad": 0.01,
        "width": 0.3333333333333333,
        "x": 0.08333333333333333,
        "y": 0.25
       },
       "id": "c2bc8a4a-3d10-42ea-a502-addfa48d30aa"
      },
      "c3290164-8c6c-4fb2-8440-dc9c1954b2a8": {
       "attrs": {
        "height": 0.08333333333333333,
        "pad": 0.01,
        "width": 0.3333333333333333,
        "x": 0.08333333333333333,
        "y": 0.08333333333333333
       },
       "id": "c3290164-8c6c-4fb2-8440-dc9c1954b2a8"
      },
      "cae89c64-707c-426b-9d54-271a6968f4d4": {
       "attrs": {
        "height": 0.08333333333333333,
        "pad": 0.01,
        "width": 0.3333333333333333,
        "x": 0.5,
        "y": 0.16666666666666666
       },
       "id": "cae89c64-707c-426b-9d54-271a6968f4d4"
      }
     }
    },
    "3f3488c4-9663-4148-81c2-6efeca3a3182": {
     "id": "3f3488c4-9663-4148-81c2-6efeca3a3182",
     "prev": null,
     "regions": {
      "de3c3730-2b64-4728-961d-8ccac2e82a8b": {
       "attrs": {
        "height": 1,
        "width": 1,
        "x": 0,
        "y": 0
       },
       "id": "de3c3730-2b64-4728-961d-8ccac2e82a8b"
      }
     }
    },
    "7fcd96c3-4f11-4c1a-901e-1aaed699feef": {
     "id": "7fcd96c3-4f11-4c1a-901e-1aaed699feef",
     "prev": "059bd838-7fcc-4bc2-9a70-791937ae60fc",
     "regions": {
      "d633e556-de5b-4db2-9189-81ffc86ad4e4": {
       "attrs": {
        "height": 0.8,
        "width": 0.45,
        "x": 0.5,
        "y": 0.1
       },
       "content": {
        "cell": "9dbc5a7f-2804-436e-84c8-16731ff8d6cc",
        "part": "whole"
       },
       "id": "d633e556-de5b-4db2-9189-81ffc86ad4e4"
      },
      "e420539c-6102-4ca2-a221-4dc31ff96485": {
       "attrs": {
        "height": 0.8,
        "width": 0.45,
        "x": 0.05,
        "y": 0.1
       },
       "content": {
        "cell": "9dbc5a7f-2804-436e-84c8-16731ff8d6cc",
        "part": "source"
       },
       "id": "e420539c-6102-4ca2-a221-4dc31ff96485"
      }
     }
    },
    "ae0d3a21-a739-48f6-8292-444b1c6104c2": {
     "id": "ae0d3a21-a739-48f6-8292-444b1c6104c2",
     "prev": "ce10dcdc-aef3-48d6-9651-353d968df0a9",
     "regions": {
      "572f4efd-d708-478e-b588-253ef4b6ed8b": {
       "attrs": {
        "height": 0.8,
        "width": 0.8,
        "x": 0.1,
        "y": 0.1
       },
       "content": {
        "cell": "08b1a112-b767-4318-8893-cba34983c73d",
        "part": "whole"
       },
       "id": "572f4efd-d708-478e-b588-253ef4b6ed8b"
      }
     }
    },
    "bef4f689-a8fd-40ca-b58b-2438b14d8c60": {
     "id": "bef4f689-a8fd-40ca-b58b-2438b14d8c60",
     "prev": "ae0d3a21-a739-48f6-8292-444b1c6104c2",
     "regions": {
      "ed75fc26-f472-4a41-9e35-521d8e54e3aa": {
       "attrs": {
        "height": 0.8,
        "width": 0.8,
        "x": 0.1,
        "y": 0.1
       },
       "content": {
        "cell": "9dbc5a7f-2804-436e-84c8-16731ff8d6cc",
        "part": "whole"
       },
       "id": "ed75fc26-f472-4a41-9e35-521d8e54e3aa"
      }
     }
    },
    "ce10dcdc-aef3-48d6-9651-353d968df0a9": {
     "id": "ce10dcdc-aef3-48d6-9651-353d968df0a9",
     "prev": "fbf0ce69-41df-4111-aa87-9d9beba5684a",
     "regions": {
      "964e3744-6940-4164-9be8-325779c88ca4": {
       "attrs": {
        "height": 0.8,
        "width": 0.8,
        "x": 0.1,
        "y": 0.1
       },
       "content": {
        "cell": "436c138e-3fc6-40a0-b245-df87b413ae97",
        "part": "whole"
       },
       "id": "964e3744-6940-4164-9be8-325779c88ca4"
      }
     }
    },
    "e08cbfa2-4513-425e-b25f-12b80cb5c8ff": {
     "id": "e08cbfa2-4513-425e-b25f-12b80cb5c8ff",
     "prev": "7fcd96c3-4f11-4c1a-901e-1aaed699feef",
     "regions": {
      "a3e62ae4-98a2-4868-8c92-8ab03d75e77a": {
       "attrs": {
        "height": 1,
        "width": 1,
        "x": 0,
        "y": 0
       },
       "id": "a3e62ae4-98a2-4868-8c92-8ab03d75e77a"
      }
     }
    },
    "e2aa7fde-af42-4f67-8b1d-8470c37b6b6b": {
     "id": "e2aa7fde-af42-4f67-8b1d-8470c37b6b6b",
     "prev": "bef4f689-a8fd-40ca-b58b-2438b14d8c60",
     "regions": {
      "fd26587b-d2b0-4e2c-b9eb-790bce4db3f7": {
       "attrs": {
        "height": 0.8,
        "width": 0.8,
        "x": 0.1,
        "y": 0.1
       },
       "content": {
        "cell": "25a97aae-036b-4381-b8b1-fb7cf425f0c9",
        "part": "whole"
       },
       "id": "fd26587b-d2b0-4e2c-b9eb-790bce4db3f7"
      }
     }
    },
    "fbf0ce69-41df-4111-aa87-9d9beba5684a": {
     "id": "fbf0ce69-41df-4111-aa87-9d9beba5684a",
     "prev": "e08cbfa2-4513-425e-b25f-12b80cb5c8ff",
     "regions": {
      "8f000975-527c-4638-ab1f-a8a9111cfecf": {
       "attrs": {
        "height": 0.8,
        "width": 0.8,
        "x": 0.1,
        "y": 0.1
       },
       "content": {
        "cell": "20fbc550-7132-47bd-840a-ae9fc25a9c27",
        "part": "source"
       },
       "id": "8f000975-527c-4638-ab1f-a8a9111cfecf"
      }
     }
    }
   },
   "themes": {}
  }
 },
 "nbformat": 4,
 "nbformat_minor": 1
}
