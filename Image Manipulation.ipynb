{
 "cells": [
  {
   "cell_type": "code",
   "execution_count": 1,
   "metadata": {
    "collapsed": false
   },
   "outputs": [
    {
     "name": "stdout",
     "output_type": "stream",
     "text": [
      "1 new artifact(s)"
     ]
    },
    {
     "name": "stderr",
     "output_type": "stream",
     "text": [
      "1 new artifacts in macro"
     ]
    },
    {
     "name": "stdout",
     "output_type": "stream",
     "text": [
      "\n"
     ]
    },
    {
     "name": "stderr",
     "output_type": "stream",
     "text": [
      "\n",
      "1 new artifacts in runtime\n",
      "1 new artifacts in compile\n"
     ]
    },
    {
     "name": "stdout",
     "output_type": "stream",
     "text": [
      "13 new artifact(s)\n"
     ]
    },
    {
     "name": "stderr",
     "output_type": "stream",
     "text": [
      "13 new artifacts in macro\n",
      "13 new artifacts in runtime\n",
      "13 new artifacts in compile\n"
     ]
    },
    {
     "name": "stdout",
     "output_type": "stream",
     "text": [
      "13 new artifact(s)\n"
     ]
    },
    {
     "name": "stderr",
     "output_type": "stream",
     "text": [
      "13 new artifacts in macro\n",
      "13 new artifacts in runtime\n",
      "13 new artifacts in compile\n"
     ]
    },
    {
     "name": "stdout",
     "output_type": "stream",
     "text": [
      "1 new artifact(s)"
     ]
    },
    {
     "name": "stderr",
     "output_type": "stream",
     "text": [
      "1 new artifacts in macro\n"
     ]
    },
    {
     "name": "stdout",
     "output_type": "stream",
     "text": [
      "\n"
     ]
    },
    {
     "name": "stderr",
     "output_type": "stream",
     "text": [
      "1 new artifacts in runtime\n",
      "1 new artifacts in compile\n"
     ]
    },
    {
     "data": {
      "text/plain": []
     },
     "metadata": {},
     "output_type": "display_data"
    }
   ],
   "source": [
    "classpath.add(\"com.lihaoyi\" %% \"ammonite-ops\" % \"0.7.8\")\n",
    "classpath.add(\"com.sksamuel.scrimage\" %% \"scrimage-core\" % \"2.1.0\")                                                                                                                                                                           \n",
    "classpath.add(\"com.sksamuel.scrimage\" %% \"scrimage-io-extra\" % \"2.1.0\")                                                                                                                                                                       \n",
    "classpath.add(\"com.sksamuel.scrimage\" %% \"scrimage-filters\" % \"2.1.0\")  "
   ]
  },
  {
   "cell_type": "code",
   "execution_count": 2,
   "metadata": {
    "collapsed": false
   },
   "outputs": [
    {
     "data": {
      "text/plain": [
       "\u001b[32mimport \u001b[36mammonite.ops._\u001b[0m\n",
       "\u001b[32mimport \u001b[36mcom.sksamuel.scrimage.Image\u001b[0m"
      ]
     },
     "metadata": {},
     "output_type": "display_data"
    }
   ],
   "source": [
    "import ammonite.ops._\n",
    "import com.sksamuel.scrimage.Image"
   ]
  },
  {
   "cell_type": "code",
   "execution_count": 3,
   "metadata": {
    "collapsed": false
   },
   "outputs": [
    {
     "data": {
      "text/plain": [
       "\u001b[36moriginalImgDir\u001b[0m: \u001b[32mcwd\u001b[0m.\u001b[32mThisType\u001b[0m = /home/bfrasure/JupyterProjects/OriginalImages\n",
       "\u001b[36mlisted\u001b[0m: \u001b[32mLsSeq\u001b[0m = \u001b[33mLsSeq\u001b[0m(\n",
       "  /home/bfrasure/JupyterProjects/OriginalImages/IMG_2184.JPG,\n",
       "  /home/bfrasure/JupyterProjects/OriginalImages/IMG_2589.JPG,\n",
       "  /home/bfrasure/JupyterProjects/OriginalImages/SARAnight.jpg,\n",
       "  /home/bfrasure/JupyterProjects/OriginalImages/rollercoaster_ride.jpg\n",
       ")"
      ]
     },
     "metadata": {},
     "output_type": "display_data"
    }
   ],
   "source": [
    "val originalImgDir = cwd / 'OriginalImages\n",
    "val listed = ls! originalImgDir"
   ]
  },
  {
   "cell_type": "code",
   "execution_count": 12,
   "metadata": {
    "collapsed": false
   },
   "outputs": [
    {
     "data": {
      "text/plain": [
       "\u001b[36mmanipulatedImgDir\u001b[0m: \u001b[32mcwd\u001b[0m.\u001b[32mThisType\u001b[0m = /home/bfrasure/JupyterProjects/ManipulatedImages\n",
       "defined \u001b[32mfunction \u001b[36mcopyFreshImages\u001b[0m"
      ]
     },
     "metadata": {},
     "output_type": "display_data"
    }
   ],
   "source": [
    "val manipulatedImgDir = cwd / 'ManipulatedImages\n",
    "\n",
    "def copyFreshImages(srcDir: Path, targetDir: Path): LsSeq = {\n",
    "rm! targetDir\n",
    "mkdir! targetDir\n",
    "for ( file <- (ls! srcDir) ) { cp.into(file, targetDir)  }\n",
    "ls! targetDir\n",
    "}"
   ]
  },
  {
   "cell_type": "code",
   "execution_count": 13,
   "metadata": {
    "collapsed": false
   },
   "outputs": [
    {
     "data": {
      "text/plain": [
       "\u001b[32mimport \u001b[36mcom.sksamuel.scrimage.Image\u001b[0m\n",
       "\u001b[32mimport \u001b[36mcom.sksamuel.scrimage.ScaleMethod.FastScale\u001b[0m\n",
       "\u001b[32mimport \u001b[36mcom.sksamuel.scrimage.filter.TwirlFilter\u001b[0m\n",
       "\u001b[32mimport \u001b[36mcom.sksamuel.scrimage.filter.EdgeFilter\u001b[0m\n",
       "\u001b[32mimport \u001b[36mcom.sksamuel.scrimage.filter.SnowFilter\u001b[0m\n",
       "\u001b[32mimport \u001b[36mcom.sksamuel.scrimage.nio.JpegWriter\u001b[0m\n",
       "\u001b[32mimport \u001b[36mcom.sksamuel.scrimage.Color\u001b[0m\n",
       "\u001b[32mimport \u001b[36mcom.sksamuel.scrimage.filter.{RippleFilter, RippleType}\u001b[0m\n",
       "\u001b[32mimport \u001b[36mjavax.imageio.ImageIO\u001b[0m\n",
       "\u001b[32mimport \u001b[36mjava.awt.Graphics\u001b[0m\n",
       "\u001b[32mimport \u001b[36mscala.concurrent.ExecutionContext.Implicits.global\u001b[0m\n",
       "\u001b[36mrippleAmplitude\u001b[0m: \u001b[32mFloat\u001b[0m = \u001b[32m30.0F\u001b[0m\n",
       "\u001b[36mrippleWaveLength\u001b[0m: \u001b[32mFloat\u001b[0m = \u001b[32m50.0F\u001b[0m\n",
       "defined \u001b[32mfunction \u001b[36maddTextToImg\u001b[0m\n",
       "\u001b[36mres12_14\u001b[0m: \u001b[32mSeq\u001b[0m[\u001b[32mjava\u001b[0m.\u001b[32mio\u001b[0m.\u001b[32mFile\u001b[0m] = \u001b[33mList\u001b[0m(\n",
       "  /home/bfrasure/JupyterProjects/ManipulatedImages/IMG_2184.JPG,\n",
       "  /home/bfrasure/JupyterProjects/ManipulatedImages/IMG_2589.JPG,\n",
       "  /home/bfrasure/JupyterProjects/ManipulatedImages/SARAnight.jpg,\n",
       "  /home/bfrasure/JupyterProjects/ManipulatedImages/rollercoaster_ride.jpg\n",
       ")"
      ]
     },
     "metadata": {},
     "output_type": "display_data"
    }
   ],
   "source": [
    "import com.sksamuel.scrimage.Image\n",
    "import com.sksamuel.scrimage.ScaleMethod.FastScale\n",
    "import com.sksamuel.scrimage.filter.TwirlFilter\n",
    "import com.sksamuel.scrimage.filter.EdgeFilter\n",
    "import com.sksamuel.scrimage.filter.SnowFilter\n",
    "import com.sksamuel.scrimage.nio.JpegWriter\n",
    "import com.sksamuel.scrimage.Color\n",
    "import com.sksamuel.scrimage.filter.{RippleFilter, RippleType}\n",
    "\n",
    "import javax.imageio.ImageIO\n",
    "import java.awt.Graphics\n",
    "\n",
    "// Needed for SnowFilter for some weird reason.\n",
    "import scala.concurrent.ExecutionContext.Implicits.global\n",
    "\n",
    "val rippleAmplitude = 30f\n",
    "val rippleWaveLength = 50f\n",
    "\n",
    "def addTextToImg(imgPath: Path, text: String) = {\n",
    "    val graphicsImg = ImageIO.read(imgPath.toIO)\n",
    "    val height = graphicsImg.getHeight\n",
    "    val width = graphicsImg.getWidth\n",
    "    val g = graphicsImg.getGraphics();\n",
    "    g.setFont(g.getFont().deriveFont(200f));\n",
    "    g.drawString(text, 100, height - 100);\n",
    "    g.dispose();\n",
    "    ImageIO.write(graphicsImg, \"jpg\", imgPath.toIO);\n",
    "}\n",
    "\n",
    "for (imgPath <- copyFreshImages(originalImgDir, manipulatedImgDir);\n",
    "     // img = Image.fromFile(imgPath.toIO).scaleTo(800, 600, FastScale).filter(TwirlFilter(200)).output(imgPath.toIO)(JpegWriter())\n",
    "    img = Image.fromFile(imgPath.toIO)\n",
    "//      .scaleTo(800, 600, FastScale)\n",
    "     .filter(\n",
    "//         TwirlFilter(1000)\n",
    "//          new RippleFilter(RippleType.Sine, rippleAmplitude, rippleAmplitude, rippleWaveLength, rippleWaveLength)\n",
    "//          EdgeFilter\n",
    "         SnowFilter()\n",
    "    ).pad(300, Color.Black)\n",
    "     .output(imgPath.toIO)(JpegWriter())\n",
    "    ) yield { \n",
    "    addTextToImg(imgPath, \"Happy Holidays!\")\n",
    "    img \n",
    "}"
   ]
  },
  {
   "cell_type": "code",
   "execution_count": null,
   "metadata": {
    "collapsed": true
   },
   "outputs": [],
   "source": []
  }
 ],
 "metadata": {
  "anaconda-cloud": {},
  "kernelspec": {
   "display_name": "Scala 2.11",
   "language": "scala211",
   "name": "scala211"
  },
  "language_info": {
   "codemirror_mode": "text/x-scala",
   "file_extension": ".scala",
   "mimetype": "text/x-scala",
   "name": "scala211",
   "pygments_lexer": "scala",
   "version": "2.11.8"
  }
 },
 "nbformat": 4,
 "nbformat_minor": 1
}
