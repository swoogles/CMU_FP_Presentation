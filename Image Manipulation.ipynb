{
 "cells": [
  {
   "cell_type": "markdown",
   "metadata": {},
   "source": [
    "# Hello, _nbpresent_!"
   ]
  },
  {
   "cell_type": "code",
   "execution_count": null,
   "metadata": {
    "collapsed": false
   },
   "outputs": [],
   "source": []
  },
  {
   "cell_type": "code",
   "execution_count": 1,
   "metadata": {
    "collapsed": false,
    "nbpresent": {
     "id": "7f6bb565-8d9d-4161-8916-e1b3b592f255"
    }
   },
   "outputs": [
    {
     "name": "stdout",
     "output_type": "stream",
     "text": [
      "1 new artifact(s)"
     ]
    },
    {
     "name": "stderr",
     "output_type": "stream",
     "text": [
      "1 new artifacts in macro"
     ]
    },
    {
     "name": "stdout",
     "output_type": "stream",
     "text": [
      "\n"
     ]
    },
    {
     "name": "stderr",
     "output_type": "stream",
     "text": [
      "\n",
      "1 new artifacts in runtime\n",
      "1 new artifacts in compile\n"
     ]
    },
    {
     "name": "stdout",
     "output_type": "stream",
     "text": [
      "12 new artifact(s)"
     ]
    },
    {
     "name": "stderr",
     "output_type": "stream",
     "text": [
      "12 new artifacts in macro"
     ]
    },
    {
     "name": "stdout",
     "output_type": "stream",
     "text": [
      "\n"
     ]
    },
    {
     "name": "stderr",
     "output_type": "stream",
     "text": [
      "\n",
      "12 new artifacts in runtime\n",
      "12 new artifacts in compile\n"
     ]
    },
    {
     "name": "stdout",
     "output_type": "stream",
     "text": [
      "13 new artifact(s)\n"
     ]
    },
    {
     "name": "stderr",
     "output_type": "stream",
     "text": [
      "13 new artifacts in macro\n",
      "13 new artifacts in runtime\n",
      "13 new artifacts in compile\n"
     ]
    },
    {
     "name": "stdout",
     "output_type": "stream",
     "text": [
      "1 new artifact(s)\n"
     ]
    },
    {
     "name": "stderr",
     "output_type": "stream",
     "text": [
      "1 new artifacts in macro\n",
      "1 new artifacts in runtime\n",
      "1 new artifacts in compile\n"
     ]
    },
    {
     "data": {
      "text/plain": []
     },
     "metadata": {},
     "output_type": "display_data"
    }
   ],
   "source": [
    "classpath.add(\"com.lihaoyi\" %% \"ammonite-ops\" % \"0.7.8\")\n",
    "classpath.add(\"com.sksamuel.scrimage\" %% \"scrimage-core\" % \"2.1.7\")                                                                                                                                                                           \n",
    "classpath.add(\"com.sksamuel.scrimage\" %% \"scrimage-io-extra\" % \"2.1.7\")                                                                                                                                                                       \n",
    "classpath.add(\"com.sksamuel.scrimage\" %% \"scrimage-filters\" % \"2.1.7\")  "
   ]
  },
  {
   "cell_type": "code",
   "execution_count": 11,
   "metadata": {
    "collapsed": false,
    "nbpresent": {
     "id": "20fbc550-7132-47bd-840a-ae9fc25a9c27"
    }
   },
   "outputs": [
    {
     "data": {
      "text/plain": [
       "\u001b[32mimport \u001b[36mammonite.ops._\u001b[0m\n",
       "\u001b[32mimport \u001b[36mcom.sksamuel.scrimage.Image\u001b[0m\n",
       "\u001b[32mimport \u001b[36mcom.sksamuel.scrimage.ScaleMethod.FastScale\u001b[0m\n",
       "\u001b[32mimport \u001b[36mcom.sksamuel.scrimage.filter.TwirlFilter\u001b[0m\n",
       "\u001b[32mimport \u001b[36mcom.sksamuel.scrimage.filter.EdgeFilter\u001b[0m\n",
       "\u001b[32mimport \u001b[36mcom.sksamuel.scrimage.filter.SnowFilter\u001b[0m\n",
       "\u001b[32mimport \u001b[36mcom.sksamuel.scrimage.filter.OilFilter\u001b[0m\n",
       "\u001b[32mimport \u001b[36mcom.sksamuel.scrimage.nio.JpegWriter\u001b[0m\n",
       "\u001b[32mimport \u001b[36mcom.sksamuel.scrimage.Color\u001b[0m\n",
       "\u001b[32mimport \u001b[36mjava.awt.{Color=>JColor}\u001b[0m\n",
       "\u001b[32mimport \u001b[36mjava.awt.{Font=>JFont}\u001b[0m\n",
       "\u001b[32mimport \u001b[36mcom.sksamuel.scrimage.filter.{RippleFilter, RippleType}\u001b[0m\n",
       "\u001b[32mimport \u001b[36mcom.sksamuel.scrimage.canvas.DrawableString\u001b[0m\n",
       "\u001b[32mimport \u001b[36mcom.sksamuel.scrimage.canvas.Drawable\u001b[0m\n",
       "\u001b[32mimport \u001b[36mcom.sksamuel.scrimage.canvas.Canvas._\u001b[0m\n",
       "\u001b[32mimport \u001b[36mcom.sksamuel.scrimage.canvas.Font\u001b[0m\n",
       "\u001b[32mimport \u001b[36mcom.sksamuel.scrimage.canvas.Context\u001b[0m\n",
       "\u001b[32mimport \u001b[36mjava.awt.Graphics\u001b[0m\n",
       "\u001b[32mimport \u001b[36mjava.awt.Graphics2D\u001b[0m\n",
       "\u001b[32mimport \u001b[36mscala.concurrent.ExecutionContext.Implicits.global\u001b[0m"
      ]
     },
     "metadata": {},
     "output_type": "display_data"
    }
   ],
   "source": [
    "import ammonite.ops._\n",
    "import com.sksamuel.scrimage.Image\n",
    "import com.sksamuel.scrimage.ScaleMethod.FastScale\n",
    "import com.sksamuel.scrimage.filter.TwirlFilter\n",
    "import com.sksamuel.scrimage.filter.EdgeFilter\n",
    "import com.sksamuel.scrimage.filter.SnowFilter\n",
    "import com.sksamuel.scrimage.filter.OilFilter\n",
    "import com.sksamuel.scrimage.nio.JpegWriter\n",
    "import com.sksamuel.scrimage.Color\n",
    "import java.awt.{Color=>JColor}\n",
    "import java.awt.{Font=>JFont}\n",
    "\n",
    "import com.sksamuel.scrimage.filter.{RippleFilter, RippleType}\n",
    "import com.sksamuel.scrimage.canvas.DrawableString\n",
    "import com.sksamuel.scrimage.canvas.Drawable\n",
    "import com.sksamuel.scrimage.canvas.Canvas._\n",
    "import com.sksamuel.scrimage.canvas.Font\n",
    "import com.sksamuel.scrimage.canvas.Context\n",
    "// import com.sksamuel.scrimage.canvas.drawable.Text\n",
    "\n",
    "import java.awt.Graphics\n",
    "\n",
    "import java.awt.Graphics2D\n",
    "\n",
    "// Needed for SnowFilter for some weird reason.\n",
    "import scala.concurrent.ExecutionContext.Implicits.global"
   ]
  },
  {
   "cell_type": "code",
   "execution_count": 3,
   "metadata": {
    "collapsed": false,
    "nbpresent": {
     "id": "436c138e-3fc6-40a0-b245-df87b413ae97"
    }
   },
   "outputs": [
    {
     "data": {
      "text/plain": [
       "\u001b[36moriginalImgDir\u001b[0m: \u001b[32mcwd\u001b[0m.\u001b[32mThisType\u001b[0m = /home/bfrasure/JupyterProjects/OriginalImages\n",
       "\u001b[36mlisted\u001b[0m: \u001b[32mLsSeq\u001b[0m = \u001b[33mLsSeq\u001b[0m(\n",
       "  /home/bfrasure/JupyterProjects/OriginalImages/IMG_2184.JPG,\n",
       "  /home/bfrasure/JupyterProjects/OriginalImages/IMG_2589.JPG,\n",
       "  /home/bfrasure/JupyterProjects/OriginalImages/SARAnight.jpg,\n",
       "  /home/bfrasure/JupyterProjects/OriginalImages/rollercoaster_ride.jpg\n",
       ")\n",
       "\u001b[36mmanipulatedImgDir\u001b[0m: \u001b[32mcwd\u001b[0m.\u001b[32mThisType\u001b[0m = /home/bfrasure/JupyterProjects/ManipulatedImages"
      ]
     },
     "metadata": {},
     "output_type": "display_data"
    }
   ],
   "source": [
    "val originalImgDir = cwd / 'OriginalImages\n",
    "val listed = ls! originalImgDir\n",
    "val manipulatedImgDir = cwd / 'ManipulatedImages\n"
   ]
  },
  {
   "cell_type": "code",
   "execution_count": 4,
   "metadata": {
    "collapsed": false,
    "nbpresent": {
     "id": "08b1a112-b767-4318-8893-cba34983c73d"
    }
   },
   "outputs": [
    {
     "data": {
      "text/plain": [
       "defined \u001b[32mfunction \u001b[36mcopyFreshImages_!\u001b[0m"
      ]
     },
     "metadata": {},
     "output_type": "display_data"
    }
   ],
   "source": [
    "def copyFreshImages_!(srcDir: Path, targetDir: Path): LsSeq = {\n",
    "rm! targetDir\n",
    "mkdir! targetDir\n",
    "for ( file <- (ls! srcDir) )\n",
    "    { cp.into(file, targetDir)  }\n",
    "ls! targetDir\n",
    "}"
   ]
  },
  {
   "cell_type": "code",
   "execution_count": 15,
   "metadata": {
    "collapsed": false
   },
   "outputs": [
    {
     "data": {
      "text/plain": [
       "\u001b[36mimgFont\u001b[0m: \u001b[32mjava\u001b[0m.\u001b[32mawt\u001b[0m.\u001b[32mFont\u001b[0m = java.awt.Font[family=Dialog,name=Sans-seriff,style=bold,size=36]\n",
       "\u001b[36mwrappedImgFont\u001b[0m: \u001b[32mFont\u001b[0m = \u001b[33mFont\u001b[0m(\n",
       "  java.awt.Font[family=Dialog,name=Sans-seriff,style=bold,size=36],\n",
       "  \u001b[32mfalse\u001b[0m,\n",
       "  \u001b[32mfalse\u001b[0m\n",
       ")\n",
       "\u001b[36mtextContext\u001b[0m: \u001b[32mContext\u001b[0m = \u001b[33mContext\u001b[0m(\n",
       "  java.awt.AlphaComposite@b0800002,\n",
       "  RGBColor(255,255,255,255),\n",
       "  \u001b[32mfalse\u001b[0m,\n",
       "  \u001b[33mSome\u001b[0m(\n",
       "    \u001b[33mFont\u001b[0m(\n",
       "      java.awt.Font[family=Dialog,name=Sans-seriff,style=bold,size=36],\n",
       "      \u001b[32mfalse\u001b[0m,\n",
       "      \u001b[32mfalse\u001b[0m\n",
       "    )\n",
       "  ),\n",
       "  \u001b[32m36\u001b[0m,\n",
       "  None\n",
       ")\n",
       "\u001b[36mimgText\u001b[0m: \u001b[32mDrawableString\u001b[0m = \u001b[33mDrawableString\u001b[0m(\n",
       "  \u001b[32m\"Happy Holidays from Scrimage!\"\u001b[0m,\n",
       "  \u001b[32m200\u001b[0m,\n",
       "  \u001b[32m780\u001b[0m,\n",
       "  \u001b[33mContext\u001b[0m(\n",
       "    java.awt.AlphaComposite@b0800002,\n",
       "    RGBColor(255,255,255,255),\n",
       "    \u001b[32mfalse\u001b[0m,\n",
       "    \u001b[33mSome\u001b[0m(\n",
       "      \u001b[33mFont\u001b[0m(\n",
       "        java.awt.Font[family=Dialog,name=Sans-seriff,style=bold,size=36],\n",
       "        \u001b[32mfalse\u001b[0m,\n",
       "        \u001b[32mfalse\u001b[0m\n",
       "      )\n",
       "    ),\n",
       "    \u001b[32m36\u001b[0m,\n",
       "    None\n",
       "  ),\n",
       "  null\n",
       ")"
      ]
     },
     "metadata": {},
     "output_type": "display_data"
    }
   ],
   "source": [
    "// val configureExaample: Graphics2D => Unit = { g2: Graphics2D => \n",
    "//     g2.setBackground(JColor.WHITE)\n",
    "//      g2.setFont(Font.SansSerif.wrapped) \n",
    "//     }\n",
    "\n",
    "val imgFont = new JFont(\"Sans-seriff\", 1, 36)\n",
    "val wrappedImgFont = Font(imgFont)\n",
    "// Context().copy(color=JColor.WHITE, textSize=136).withFont\n",
    "\n",
    "val textContext = Context().copy(color=JColor.WHITE, textSize=36).withFont(wrappedImgFont)\n",
    "val imgText = \n",
    "//     DrawableString(\"Teeeeexxxxxxtttttttt\", 6, 26, { g2: Graphics2D => g2.setBlack(); g2.setAntiAlias(true); g2.setFont(new Font(\"Helvetica\", Font.BOLD, 26)) })\n",
    "    DrawableString(\"Happy Holidays from Scrimage!\", 200, 800-20, textContext)"
   ]
  },
  {
   "cell_type": "code",
   "execution_count": 16,
   "metadata": {
    "collapsed": false,
    "nbpresent": {
     "id": "9dbc5a7f-2804-436e-84c8-16731ff8d6cc"
    }
   },
   "outputs": [
    {
     "data": {
      "text/plain": [
       "\u001b[36mrippleAmplitude\u001b[0m: \u001b[32mFloat\u001b[0m = \u001b[32m30.0F\u001b[0m\n",
       "\u001b[36mrippleWaveLength\u001b[0m: \u001b[32mFloat\u001b[0m = \u001b[32m50.0F\u001b[0m\n",
       "\u001b[36mx\u001b[0m: \u001b[32mImage\u001b[0m => \u001b[32mImage\u001b[0m = <function1>\n",
       "defined \u001b[32mfunction \u001b[36mmakeArtGallery\u001b[0m\n",
       "defined \u001b[32mfunction \u001b[36mdownScaleImages\u001b[0m\n",
       "defined \u001b[32mfunction \u001b[36mmakeGreetingCards\u001b[0m\n",
       "\u001b[36mres15_6\u001b[0m: \u001b[32mSeq\u001b[0m[\u001b[32mjava\u001b[0m.\u001b[32mio\u001b[0m.\u001b[32mFile\u001b[0m] = \u001b[33mList\u001b[0m(\n",
       "  /home/bfrasure/JupyterProjects/ManipulatedImages/IMG_2184.JPG,\n",
       "  /home/bfrasure/JupyterProjects/ManipulatedImages/IMG_2589.JPG,\n",
       "  /home/bfrasure/JupyterProjects/ManipulatedImages/SARAnight.jpg,\n",
       "  /home/bfrasure/JupyterProjects/ManipulatedImages/rollercoaster_ride.jpg\n",
       ")"
      ]
     },
     "metadata": {},
     "output_type": "display_data"
    }
   ],
   "source": [
    "val rippleAmplitude = 30f\n",
    "val rippleWaveLength = 50f\n",
    "\n",
    "        val x: (Image=>Image) = (imgInner) => {\n",
    "         imgInner\n",
    "         .filter(OilFilter(15))\n",
    "         .pad(100, Color(200, 50, 50))\n",
    "         .pad(100, Color.Black)\n",
    "         .pad(100, Color(200, 50, 50))\n",
    "        }\n",
    "\n",
    "def makeArtGallery() = {\n",
    "    for (imgPath <- copyFreshImages_!(originalImgDir, manipulatedImgDir);\n",
    "        img = Image.fromFile(imgPath.toIO)\n",
    "         .filter(OilFilter(15))\n",
    "         .pad(100, Color(200, 50, 50))\n",
    "         .pad(100, Color.Black)\n",
    "         .pad(100, Color(200, 50, 50))\n",
    "         .output(imgPath.toIO)(JpegWriter())\n",
    "        ) yield {\n",
    "            println(\"Finished transforming: \" + img)\n",
    "\n",
    "            img \n",
    "        }\n",
    "}\n",
    "\n",
    "def downScaleImages() = {\n",
    "    \n",
    "    for (imgPath <- copyFreshImages_!(originalImgDir, manipulatedImgDir);\n",
    "        img = Image.fromFile(imgPath.toIO)\n",
    "         .fit(1000, 800, Color.Black)\n",
    "         .output(imgPath.toIO)(JpegWriter())\n",
    "        ) yield { \n",
    "        img \n",
    "    }\n",
    "}\n",
    "\n",
    "\n",
    "\n",
    "\n",
    "def makeGreetingCards() = {\n",
    "    for (imgPath <- copyFreshImages_!(originalImgDir, manipulatedImgDir);\n",
    "        img = Image.fromFile(imgPath.toIO)\n",
    "         .filter(SnowFilter())\n",
    "         .fit(800, 600, Color.Black)\n",
    "         .pad(100, Color.Black)\n",
    "         .draw(imgText)\n",
    "         .output(imgPath.toIO)(JpegWriter())\n",
    "        ) yield {\n",
    "        img \n",
    "    }\n",
    "}\n",
    "\n",
    "// makeArtGallery()\n",
    "// downScaleImages()\n",
    "makeGreetingCards()"
   ]
  },
  {
   "cell_type": "code",
   "execution_count": null,
   "metadata": {
    "collapsed": true,
    "nbpresent": {
     "id": "25a97aae-036b-4381-b8b1-fb7cf425f0c9"
    }
   },
   "outputs": [],
   "source": []
  }
 ],
 "metadata": {
  "anaconda-cloud": {},
  "kernelspec": {
   "display_name": "Scala 2.11",
   "language": "scala211",
   "name": "scala211"
  },
  "language_info": {
   "codemirror_mode": "text/x-scala",
   "file_extension": ".scala",
   "mimetype": "text/x-scala",
   "name": "scala211",
   "pygments_lexer": "scala",
   "version": "2.11.8"
  },
  "nbpresent": {
   "slides": {
    "059bd838-7fcc-4bc2-9a70-791937ae60fc": {
     "id": "059bd838-7fcc-4bc2-9a70-791937ae60fc",
     "layout": "grid",
     "prev": "3b8471d2-3dd8-465b-a347-dad910a0dde5",
     "regions": {
      "21a84321-f4b8-4f50-ba30-02d7f888116d": {
       "attrs": {
        "height": 0.16666666666666666,
        "pad": 0.01,
        "width": 0.3333333333333333,
        "x": 0.08333333333333333,
        "y": 0.8333333333333334
       },
       "id": "21a84321-f4b8-4f50-ba30-02d7f888116d"
      },
      "2b621938-4dd5-4435-8471-4ff8e9177351": {
       "attrs": {
        "height": 0.08333333333333333,
        "pad": 0.01,
        "width": 0.3333333333333333,
        "x": 0.08333333333333333,
        "y": 0.6666666666666666
       },
       "id": "2b621938-4dd5-4435-8471-4ff8e9177351"
      },
      "b36ddbe7-6c90-4735-8d00-c43e4b3b22e5": {
       "attrs": {
        "height": 0.08333333333333333,
        "pad": 0.01,
        "width": 0.3333333333333333,
        "x": 0.08333333333333333,
        "y": 0.4166666666666667
       },
       "id": "b36ddbe7-6c90-4735-8d00-c43e4b3b22e5"
      },
      "b78bce71-0b41-4c46-bbeb-b3abaccba6dc": {
       "attrs": {
        "height": 0.08333333333333333,
        "pad": 0.01,
        "width": 0.3333333333333333,
        "x": 0.08333333333333333,
        "y": 0.5
       },
       "id": "b78bce71-0b41-4c46-bbeb-b3abaccba6dc"
      },
      "c27b44e9-6fe5-469d-bfe7-080d29d83da5": {
       "attrs": {
        "height": 0.08333333333333333,
        "pad": 0.01,
        "width": 0.3333333333333333,
        "x": 0.5,
        "y": 0.3333333333333333
       },
       "id": "c27b44e9-6fe5-469d-bfe7-080d29d83da5"
      },
      "c2bc8a4a-3d10-42ea-a502-addfa48d30aa": {
       "attrs": {
        "height": 0.08333333333333333,
        "pad": 0.01,
        "width": 0.3333333333333333,
        "x": 0.08333333333333333,
        "y": 0.25
       },
       "id": "c2bc8a4a-3d10-42ea-a502-addfa48d30aa"
      },
      "c3290164-8c6c-4fb2-8440-dc9c1954b2a8": {
       "attrs": {
        "height": 0.08333333333333333,
        "pad": 0.01,
        "width": 0.3333333333333333,
        "x": 0.08333333333333333,
        "y": 0.08333333333333333
       },
       "id": "c3290164-8c6c-4fb2-8440-dc9c1954b2a8"
      },
      "cae89c64-707c-426b-9d54-271a6968f4d4": {
       "attrs": {
        "height": 0.08333333333333333,
        "pad": 0.01,
        "width": 0.3333333333333333,
        "x": 0.5,
        "y": 0.16666666666666666
       },
       "id": "cae89c64-707c-426b-9d54-271a6968f4d4"
      }
     }
    },
    "3b8471d2-3dd8-465b-a347-dad910a0dde5": {
     "id": "3b8471d2-3dd8-465b-a347-dad910a0dde5",
     "prev": null,
     "regions": {
      "46619d0d-b36e-47af-8dca-94ad675e4b00": {
       "attrs": {
        "height": 0.8,
        "width": 0.45,
        "x": 0.5,
        "y": 0.1
       },
       "content": {
        "cell": "9dbc5a7f-2804-436e-84c8-16731ff8d6cc",
        "part": "outputs"
       },
       "id": "46619d0d-b36e-47af-8dca-94ad675e4b00"
      },
      "89a0170c-e90e-4178-9f59-3974a137beb0": {
       "attrs": {
        "height": 0.8,
        "width": 0.45,
        "x": 0.05,
        "y": 0.1
       },
       "content": {
        "cell": "9dbc5a7f-2804-436e-84c8-16731ff8d6cc",
        "part": "source"
       },
       "id": "89a0170c-e90e-4178-9f59-3974a137beb0"
      }
     }
    }
   },
   "themes": {}
  }
 },
 "nbformat": 4,
 "nbformat_minor": 1
}
