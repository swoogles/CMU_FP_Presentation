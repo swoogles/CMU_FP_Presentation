{
 "cells": [
  {
   "cell_type": "code",
   "execution_count": 1,
   "metadata": {
    "collapsed": false
   },
   "outputs": [
    {
     "data": {
      "text/plain": [
       "\u001b[32mimport \u001b[36mscala.util.{Failure, Success, Try}\u001b[0m\n",
       "defined \u001b[32mtrait \u001b[36mLocation\u001b[0m\n",
       "defined \u001b[32mobject \u001b[36mSchool\u001b[0m\n",
       "defined \u001b[32mobject \u001b[36mHome\u001b[0m\n",
       "defined \u001b[32mobject \u001b[36mRestaurant\u001b[0m\n",
       "defined \u001b[32mclass \u001b[36mMotorcycle\u001b[0m\n",
       "defined \u001b[32mobject \u001b[36mMotorcycle\u001b[0m\n",
       "defined \u001b[32mclass \u001b[36mPerson\u001b[0m\n",
       "defined \u001b[32mobject \u001b[36mPerson\u001b[0m\n",
       "defined \u001b[32mclass \u001b[36mOccupiedMotorcycle\u001b[0m\n",
       "defined \u001b[32mclass \u001b[36mMovements\u001b[0m\n",
       "defined \u001b[32mobject \u001b[36mScenarios\u001b[0m"
      ]
     },
     "metadata": {},
     "output_type": "display_data"
    }
   ],
   "source": [
    "// package immutable\n",
    "\n",
    "import scala.util.{Failure, Success, Try}\n",
    "\n",
    "sealed trait Location\n",
    "case object School extends Location\n",
    "case object Home extends Location\n",
    "case object Restaurant extends Location\n",
    "\n",
    "case class Motorcycle(fuel: Int, location: Location)\n",
    "object Motorcycle {\n",
    "  val tripCost = 20\n",
    "\n",
    "  def drive(motorcycle: Motorcycle, destination: Location): Try[Motorcycle] = {\n",
    "    motorcycle match {\n",
    "      case Motorcycle(_, location) if (location == destination) => Success(motorcycle)\n",
    "      case Motorcycle(fuel, _) if (fuel >= tripCost) => Success(Motorcycle(motorcycle.fuel - tripCost, destination))\n",
    "      case _ => Failure(new Exception(\"Ran out of gas!\"))\n",
    "    }\n",
    "  }\n",
    "}\n",
    "\n",
    "case class Person(name: String, location: Location)\n",
    "object Person {\n",
    "  def drive(person: Person, motorcycle: Motorcycle, destination: Location): Try[(Person, Motorcycle)] = {\n",
    "    person.location match {\n",
    "      case `destination` => Success((person, motorcycle)) // TODO See if this backtick crap can be avoided.\n",
    "      case motorcycle.location =>\n",
    "        Motorcycle.drive(motorcycle, destination) flatMap { movedCar =>\n",
    "          Success((person.copy(location = destination), movedCar))\n",
    "        }\n",
    "      case invalidLocation => Failure(new Exception( \"Car and driver aren't in the same place!\"))\n",
    "    }\n",
    "  }\n",
    "\n",
    "  // TODO: Make person parameter relevant in some way.\n",
    "  //       Possibly just accept that it doesn't have a software need here.\n",
    "  def fill(person: Person, motorcycle: Motorcycle): Try[Motorcycle] =\n",
    "    person.location match {\n",
    "      case motorcycle.location => Success(motorcycle.copy(fuel = 100))\n",
    "      case _ => Failure(new Exception( s\"${person.name} is at ${person.location}, but Car is at $motorcycle.location\" ))\n",
    "    }\n",
    "}\n",
    "\n",
    "case class OccupiedMotorcycle(passenger: Person, car: Motorcycle) {\n",
    "  def drive(destination: Location): Try[OccupiedMotorcycle] = {\n",
    "    destination match {\n",
    "      case passenger.location => Success(this)\n",
    "      case newDestination =>\n",
    "        Motorcycle.drive(car, destination) flatMap { movedCar =>\n",
    "          Success(OccupiedMotorcycle(passenger.copy(location = destination), movedCar))\n",
    "        }\n",
    "    }\n",
    "  }\n",
    "\n",
    "  def driveNoTry(destination: Location): OccupiedMotorcycle = {\n",
    "    destination match {\n",
    "      case passenger.location => this\n",
    "      case newDestination =>\n",
    "        val driveResult: Try[OccupiedMotorcycle] = Motorcycle.drive(car, destination) map { movedCar =>\n",
    "          OccupiedMotorcycle(passenger.copy(location = destination), movedCar)\n",
    "        }\n",
    "        driveResult.getOrElse(this)\n",
    "    }\n",
    "  }\n",
    "\n",
    "}\n",
    "\n",
    "case class Movements(joe: Location, sam: Location)\n",
    "\n",
    "object Scenarios {\n",
    "\n",
    "  def updateScene(joe: Person, sam: Person, motorcycle: Motorcycle, intentions: Movements): Try[(Person, Person, Motorcycle)] = {\n",
    "    for ((newJoe, newCar) <- Person.drive(joe, motorcycle, intentions.joe);\n",
    "         (newSam, finalCar) <- Person.drive(sam, newCar, intentions.sam) ) yield {\n",
    "      (newJoe, newSam, finalCar)\n",
    "    }\n",
    "  }\n",
    "\n",
    "  def processScenes(joe: Person, sam: Person, motorcycle: Motorcycle, intentions: Movements*): Try[(Person, Person, Motorcycle)] =\n",
    "    processScenes(joe, sam, motorcycle, intentions.toList)\n",
    "\n",
    "  def processScenes(joe: Person, sam: Person, motorcycle: Motorcycle, intentions: List[Movements]): Try[(Person, Person, Motorcycle)] = {\n",
    "    intentions.foldLeft(Try((joe, sam, motorcycle))) {\n",
    "      case (Success((curJoe, curSam, curMotorcycle)), curIntentions) => updateScene(curJoe, curSam, curMotorcycle, curIntentions)\n",
    "      case (Failure(ex), curIntentions) => Failure(ex)\n",
    "    }\n",
    "  }\n",
    "\n",
    "  def processScenesKeepLastGoodState(joe: Person, sam: Person, motorcycle: Motorcycle, intentions: Movements*): Either[(Throwable, (Person, Person, Motorcycle)),(Person, Person, Motorcycle)] =\n",
    "    processScenesKeepLastGoodState(joe, sam, motorcycle, intentions.toList)\n",
    "\n",
    "  def processScenesKeepLastGoodState(joe: Person, sam: Person, motorcycle: Motorcycle, intentions: List[Movements]): Either[(Throwable, (Person, Person, Motorcycle)),(Person, Person, Motorcycle)] = {\n",
    "    val startState: Either[(Throwable, (Person, Person, Motorcycle)),(Person, Person, Motorcycle)] = Right((joe, sam, motorcycle))\n",
    "    intentions.foldLeft(startState) {\n",
    "      case (Right((curJoe, curSam, curMotorcycle)), curIntentions) => {\n",
    "        updateScene(curJoe, curSam, curMotorcycle, curIntentions) match {\n",
    "          case Success(sceneTuple) => Right(sceneTuple)\n",
    "          case Failure(ex) => Left((ex, (curJoe, curSam, curMotorcycle)))\n",
    "        }\n",
    "      }\n",
    "      case (Left(lastGoodStateWithException), curIntentions) => Left(lastGoodStateWithException)\n",
    "    }\n",
    "  }\n",
    "\n",
    "  def processScenesCumulative(joe: Person, sam: Person, motorcycle: Motorcycle, intentions: Movements*): List[Try[(Person, Person, Motorcycle)]] =\n",
    "    processScenesCumulative(joe, sam, motorcycle, intentions.toList)\n",
    "\n",
    "  def processScenesCumulative(joe: Person, sam: Person, motorcycle: Motorcycle, intentions: List[Movements]): List[Try[(Person, Person, Motorcycle)]] = {\n",
    "    intentions.scanLeft(Try((joe, sam, motorcycle))) {\n",
    "      case (Success((curJoe, curSam, curMotorcycle)), curIntentions) => updateScene(curJoe, curSam, curMotorcycle, curIntentions)\n",
    "      case (Failure(ex), curIntentions) => Failure(ex)\n",
    "    }\n",
    "  }\n",
    "\n",
    "\n",
    "}\n"
   ]
  },
  {
   "cell_type": "code",
   "execution_count": 2,
   "metadata": {
    "collapsed": false
   },
   "outputs": [
    {
     "data": {
      "text/plain": [
       "\u001b[36mSAM\u001b[0m: \u001b[32mPerson\u001b[0m = Person(Sam,Home)\n",
       "\u001b[36mJOE\u001b[0m: \u001b[32mPerson\u001b[0m = Person(Joe,Home)\n",
       "\u001b[36mCAR\u001b[0m: \u001b[32mMotorcycle\u001b[0m = Motorcycle(100,Home)"
      ]
     },
     "metadata": {},
     "output_type": "display_data"
    }
   ],
   "source": [
    "  val SAM = Person(\"Sam\", Home)\n",
    "  val JOE = Person(\"Joe\", Home)\n",
    "  val CAR = Motorcycle(100, Home)\n"
   ]
  },
  {
   "cell_type": "code",
   "execution_count": 11,
   "metadata": {
    "collapsed": false
   },
   "outputs": [
    {
     "data": {
      "text/plain": [
       "\u001b[36mres10\u001b[0m: \u001b[32mMotorcycle\u001b[0m = Motorcycle(80,Home)"
      ]
     },
     "metadata": {},
     "output_type": "display_data"
    }
   ],
   "source": [
    "CAR.copy(fuel=80)"
   ]
  }
 ],
 "metadata": {
  "anaconda-cloud": {},
  "kernelspec": {
   "display_name": "Scala 2.11",
   "language": "scala211",
   "name": "scala211"
  },
  "language_info": {
   "codemirror_mode": "text/x-scala",
   "file_extension": ".scala",
   "mimetype": "text/x-scala",
   "name": "scala211",
   "pygments_lexer": "scala",
   "version": "2.11.8"
  }
 },
 "nbformat": 4,
 "nbformat_minor": 1
}
