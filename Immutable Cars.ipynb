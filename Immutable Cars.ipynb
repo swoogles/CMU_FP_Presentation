{
 "cells": [
  {
   "cell_type": "code",
   "execution_count": 1,
   "metadata": {
    "collapsed": false,
    "nbpresent": {
     "id": "42ee8a07-1257-43d3-a531-b8f6806b64a6"
    }
   },
   "outputs": [
    {
     "data": {
      "text/plain": [
       "\u001b[32mimport \u001b[36mscala.util.{Failure, Success, Try}\u001b[0m\n",
       "defined \u001b[32mtrait \u001b[36mLocation\u001b[0m\n",
       "defined \u001b[32mobject \u001b[36mSchool\u001b[0m\n",
       "defined \u001b[32mobject \u001b[36mHome\u001b[0m\n",
       "defined \u001b[32mobject \u001b[36mRestaurant\u001b[0m\n",
       "defined \u001b[32mclass \u001b[36mMotorcycle\u001b[0m\n",
       "defined \u001b[32mclass \u001b[36mPerson\u001b[0m\n",
       "defined \u001b[32mclass \u001b[36mPositionUpdate\u001b[0m\n",
       "defined \u001b[32mobject \u001b[36mTravelFunctions\u001b[0m\n",
       "defined \u001b[32mobject \u001b[36mScenarios\u001b[0m"
      ]
     },
     "metadata": {},
     "output_type": "display_data"
    }
   ],
   "source": [
    "import scala.util.{Failure, Success, Try}\n",
    "\n",
    "sealed trait Location\n",
    "case object School extends Location\n",
    "case object Home extends Location\n",
    "case object Restaurant extends Location\n",
    "\n",
    "case class Motorcycle(fuel: Int, location: Location)\n",
    "case class Person(name: String, location: Location)\n",
    "case class PositionUpdate(joe: Location, sam: Location)\n",
    "\n",
    "object TravelFunctions {\n",
    "  val tripCost = 20\n",
    "\n",
    "  def drive(motorcycle: Motorcycle, destination: Location): Try[Motorcycle] = {\n",
    "    motorcycle match {\n",
    "      case Motorcycle(_, location) if (location == destination) => Success(motorcycle)\n",
    "      case Motorcycle(fuel, _) if (fuel >= tripCost) => Success(Motorcycle(motorcycle.fuel - tripCost, destination))\n",
    "      case _ => Failure(new Exception(\"Ran out of gas!\"))\n",
    "    }\n",
    "  }\n",
    "\n",
    "  def drive(person: Person, motorcycle: Motorcycle, destination: Location): Try[(Person, Motorcycle)] = {\n",
    "    person.location match {\n",
    "      case `destination` => Success((person, motorcycle)) // Try to ignore the backticks\n",
    "      case motorcycle.location =>\n",
    "        TravelFunctions.drive(motorcycle, destination) flatMap { movedCar =>\n",
    "          Success((person.copy(location = destination), movedCar))\n",
    "        }\n",
    "      case invalidLocation => Failure(new Exception(\"Car and driver aren't in the same place!\"))\n",
    "    }\n",
    "  }\n",
    "\n",
    "  def fill(person: Person, motorcycle: Motorcycle): Try[Motorcycle] =\n",
    "    person.location match {\n",
    "      case motorcycle.location => Success(motorcycle.copy(fuel = 100))\n",
    "      case _ => Failure(new Exception(\"Car and driver aren't in the same place!\"))\n",
    "    }\n",
    "}\n",
    "\n",
    "object Scenarios {\n",
    "\n",
    "  def updateScene(joe: Person, sam: Person, motorcycle: Motorcycle, intentions: PositionUpdate): Try[(Person, Person, Motorcycle)] = {\n",
    "    for ((newJoe, newCar) <- TravelFunctions.drive(joe, motorcycle, intentions.joe);\n",
    "         (newSam, finalCar) <- TravelFunctions.drive(sam, newCar, intentions.sam) ) yield {\n",
    "      (newJoe, newSam, finalCar)\n",
    "    }\n",
    "  }\n",
    "\n",
    "  def processMovements(joe: Person, sam: Person, motorcycle: Motorcycle, intentions: PositionUpdate*): Try[(Person, Person, Motorcycle)] =\n",
    "    processMovements(joe, sam, motorcycle, intentions.toList)\n",
    "\n",
    "  def processMovements(joe: Person, sam: Person, motorcycle: Motorcycle, intentions: List[PositionUpdate]): Try[(Person, Person, Motorcycle)] = {\n",
    "    intentions.foldLeft(Try((joe, sam, motorcycle))) {\n",
    "      case (Success((curJoe, curSam, curMotorcycle)), curIntentions) => updateScene(curJoe, curSam, curMotorcycle, curIntentions)\n",
    "      case (Failure(ex), curIntentions) => Failure(ex)\n",
    "    }\n",
    "  }\n",
    "}"
   ]
  },
  {
   "cell_type": "code",
   "execution_count": 2,
   "metadata": {
    "collapsed": false,
    "nbpresent": {
     "id": "45b00529-72f6-437e-b5bf-d87a1b6a4894"
    }
   },
   "outputs": [
    {
     "data": {
      "text/plain": [
       "\u001b[36mSAM\u001b[0m: \u001b[32mPerson\u001b[0m = Person(Sam,Home)\n",
       "\u001b[36mJOE\u001b[0m: \u001b[32mPerson\u001b[0m = Person(Joe,Home)\n",
       "\u001b[36mCAR\u001b[0m: \u001b[32mMotorcycle\u001b[0m = Motorcycle(100,Home)"
      ]
     },
     "metadata": {},
     "output_type": "display_data"
    }
   ],
   "source": [
    "val SAM = Person(\"Sam\", Home)\n",
    "val JOE = Person(\"Joe\", Home)\n",
    "val CAR = Motorcycle(100, Home)\n"
   ]
  },
  {
   "cell_type": "code",
   "execution_count": null,
   "metadata": {
    "collapsed": false,
    "nbpresent": {
     "id": "0b8650f8-d28b-48e0-9179-c9f362ad5a21"
    }
   },
   "outputs": [],
   "source": [
    "CAR.copy(fuel=80)"
   ]
  },
  {
   "cell_type": "code",
   "execution_count": null,
   "metadata": {
    "collapsed": false,
    "nbpresent": {
     "id": "b0febff4-9bf1-4ded-8055-b519ee07b632"
    }
   },
   "outputs": [],
   "source": [
    "TravelFunctions.drive(SAM, CAR, School)"
   ]
  }
 ],
 "metadata": {
  "anaconda-cloud": {},
  "kernelspec": {
   "display_name": "Scala 2.11",
   "language": "scala211",
   "name": "scala211"
  },
  "language_info": {
   "codemirror_mode": "text/x-scala",
   "file_extension": ".scala",
   "mimetype": "text/x-scala",
   "name": "scala211",
   "pygments_lexer": "scala",
   "version": "2.11.8"
  },
  "nbpresent": {
   "slides": {
    "39a7dd16-3871-4838-91d2-e6c9fbca0538": {
     "id": "39a7dd16-3871-4838-91d2-e6c9fbca0538",
     "prev": "56399831-c991-4371-80d6-5d6b480c6e25",
     "regions": {
      "9690b984-826e-428b-8078-af56f354130c": {
       "attrs": {
        "height": 0.8,
        "width": 0.8,
        "x": 0.1,
        "y": 0.1
       },
       "content": {
        "cell": "45b00529-72f6-437e-b5bf-d87a1b6a4894",
        "part": "whole"
       },
       "id": "9690b984-826e-428b-8078-af56f354130c"
      }
     }
    },
    "56399831-c991-4371-80d6-5d6b480c6e25": {
     "id": "56399831-c991-4371-80d6-5d6b480c6e25",
     "prev": null,
     "regions": {
      "c27b01e1-b0de-4671-a659-b874039b6962": {
       "attrs": {
        "height": 0.8,
        "width": 0.8,
        "x": 0.1,
        "y": 0.1
       },
       "content": {
        "cell": "42ee8a07-1257-43d3-a531-b8f6806b64a6",
        "part": "whole"
       },
       "id": "c27b01e1-b0de-4671-a659-b874039b6962"
      }
     }
    },
    "625d395e-fc10-4f57-aa32-e74d957f206c": {
     "id": "625d395e-fc10-4f57-aa32-e74d957f206c",
     "prev": "39a7dd16-3871-4838-91d2-e6c9fbca0538",
     "regions": {
      "bedd5a72-5f77-48f0-983c-14c1eb0dd936": {
       "attrs": {
        "height": 0.8,
        "width": 0.8,
        "x": 0.1,
        "y": 0.1
       },
       "content": {
        "cell": "0b8650f8-d28b-48e0-9179-c9f362ad5a21",
        "part": "whole"
       },
       "id": "bedd5a72-5f77-48f0-983c-14c1eb0dd936"
      }
     }
    },
    "716ff9ea-6031-4c13-a8c0-9d16a83f4fb2": {
     "id": "716ff9ea-6031-4c13-a8c0-9d16a83f4fb2",
     "prev": "625d395e-fc10-4f57-aa32-e74d957f206c",
     "regions": {
      "49f110c3-6ff0-485f-b49f-66290f453253": {
       "attrs": {
        "height": 0.8,
        "width": 0.8,
        "x": 0.1,
        "y": 0.1
       },
       "content": {
        "cell": "b0febff4-9bf1-4ded-8055-b519ee07b632",
        "part": "whole"
       },
       "id": "49f110c3-6ff0-485f-b49f-66290f453253"
      }
     }
    }
   },
   "themes": {}
  }
 },
 "nbformat": 4,
 "nbformat_minor": 1
}
