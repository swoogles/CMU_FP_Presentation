{
 "cells": [
  {
   "cell_type": "code",
   "execution_count": 17,
   "metadata": {
    "collapsed": false
   },
   "outputs": [
    {
     "data": {
      "text/plain": [
       "defined \u001b[32mtrait \u001b[36mCondition\u001b[0m\n",
       "defined \u001b[32mobject \u001b[36mPristine\u001b[0m\n",
       "defined \u001b[32mobject \u001b[36mDecent\u001b[0m\n",
       "defined \u001b[32mobject \u001b[36mTrashed\u001b[0m\n",
       "defined \u001b[32mtrait \u001b[36mLocation\u001b[0m\n",
       "defined \u001b[32mobject \u001b[36mSchool\u001b[0m\n",
       "defined \u001b[32mobject \u001b[36mHome\u001b[0m\n",
       "defined \u001b[32mobject \u001b[36mRestaurant\u001b[0m\n",
       "defined \u001b[32mobject \u001b[36mJanesHouse\u001b[0m\n",
       "defined \u001b[32mclass \u001b[36mCar\u001b[0m\n",
       "defined \u001b[32mclass \u001b[36mPerson\u001b[0m\n",
       "defined \u001b[32mobject \u001b[36mPerson\u001b[0m\n",
       "defined \u001b[32mclass \u001b[36mIntentions\u001b[0m\n",
       "defined \u001b[32mclass \u001b[36mIntentionsAlt\u001b[0m\n",
       "defined \u001b[32mobject \u001b[36mScenarios\u001b[0m"
      ]
     },
     "metadata": {},
     "output_type": "display_data"
    }
   ],
   "source": [
    "sealed trait Condition\n",
    "case object Pristine extends Condition\n",
    "case object Decent extends Condition\n",
    "case object Trashed extends Condition\n",
    "\n",
    "sealed trait Location\n",
    "case object School extends Location\n",
    "case object Home extends Location\n",
    "case object Restaurant extends Location\n",
    "case object JanesHouse extends Location\n",
    "\n",
    "case class Car(fuel: Int, condition: Condition, location: Location)\n",
    "case class Person(name: String, location: Location)\n",
    "object Person {\n",
    "  def assertWithException(condition: Boolean, msg: String): Unit = {\n",
    "    if (!condition)\n",
    "      throw new Exception(msg)\n",
    "  }\n",
    "\n",
    "  def drive(person: Person, car: Car, destination: Location): (Person, Car) = {\n",
    "    assertWithException(person.location == car.location, \"Car and driver aren't in the same place!\")\n",
    "    val newCar = Car(car.fuel-20, car.condition, destination)\n",
    "    val newPerson = Person(person.name, destination)\n",
    "    if (car.fuel < 20) // This does NOT belong in the Person class.\n",
    "      throw new Exception(\"Out of gas!\")\n",
    "    (newPerson, newCar)\n",
    "  }\n",
    "\n",
    "  // TODO: Make person parameter relevant in some way.\n",
    "  //       Possibly just accept that it doesn't have a software need here.\n",
    "  def clean(person: Person, car: Car): Car =\n",
    "    car.copy(condition = Pristine)\n",
    "  def fill(person: Person, car: Car): Car =\n",
    "    car.copy(fuel = 100)\n",
    "}\n",
    "\n",
    "case class Intentions(joeDestination: Location, samDestination: Location)\n",
    "case class IntentionsAlt(joe: Person, sam: Person) // Rather than giving destinations, you can request a precise end state.\n",
    "\n",
    "object Scenarios {\n",
    "  def assertWithException(condition: Boolean, msg: String): Unit = {\n",
    "    if (!condition)\n",
    "      throw new Exception(msg)\n",
    "  }\n",
    "\n",
    "  val SAM = Person(\"Sam\", Home)\n",
    "  val JOE = Person(\"Joe\", Home)\n",
    "  val CAR = Car(100, Pristine, Home)\n",
    "\n",
    "  \n",
    "\n",
    "  // Consider 2 version:\n",
    "  // - This one\n",
    "  // - Try[ (Person, Person, Car) ] // This one might be overkill for an entry talk.\n",
    "  def updateScene(joe: Person, sam: Person, car: Car, intentions: Intentions): (Person, Person, Car) = {\n",
    "    if (joe.location != intentions.joeDestination) {\n",
    "      assertWithException(joe.location == car.location, \"Joe wants to move, but he's not with the car!\")\n",
    "\n",
    "      if (sam.location == intentions.samDestination) { // Sam's staying put\n",
    "        (joe.copy(location=intentions.joeDestination), sam, car.copy(location=intentions.joeDestination))\n",
    "      } else {\n",
    "        assertWithException(sam.location == car.location, \"Sam wants to move, but he's not with the car!\")\n",
    "        assertWithException(intentions.joeDestination == intentions.samDestination, \"The guys want to go to different places!\")\n",
    "        (joe.copy(location=intentions.joeDestination), sam.copy(location=intentions.samDestination), car.copy(location=intentions.joeDestination))\n",
    "      }\n",
    "\n",
    "    } else { // Joe's staying put\n",
    "      if (sam.location == intentions.samDestination)\n",
    "        (joe, sam, car) // Nobodies moving\n",
    "      else {\n",
    "        assertWithException(sam.location == car.location, \"Sam wants to move, but he's not with the car!\")\n",
    "        (joe, sam.copy(location=intentions.samDestination), car.copy(location=intentions.joeDestination))\n",
    "      }\n",
    "    }\n",
    "\n",
    "  }\n",
    "\n",
    "  def processScenes(joe: Person, sam: Person, car: Car, intentions: Intentions*): (Person, Person, Car) = \n",
    "    processScenes(joe, sam, car, intentions.toList)\n",
    "\n",
    "\n",
    "  def processScenes(joe: Person, sam: Person, car: Car, intentions: List[Intentions]): (Person, Person, Car) = {\n",
    "    intentions.foldLeft((joe, sam, car)){ case ((curJoe, curSam, curCar), curIntentions) => updateScene(curJoe, curSam, curCar, curIntentions)}\n",
    "  }\n",
    "\n",
    "\n",
    "  def scenes = {\n",
    "    processScenes(\n",
    "      SAM, JOE, CAR,\n",
    "      Intentions(School, Home)\n",
    "    )\n",
    "    Person.drive(JOE, CAR, School)\n",
    "\n",
    "    if (CAR.location == Home) { // Now we're safe. Sort've.\n",
    "      println(\"Sam's driving\")\n",
    "      Person.drive(SAM, CAR, School)\n",
    "    }\n",
    "\n",
    "    Person.drive(JOE, CAR, Home)\n",
    "\n",
    "    if (CAR.condition != Pristine)\n",
    "      Person.clean(JOE, CAR)\n",
    "\n",
    "    Person.drive(JOE, CAR, JanesHouse)\n",
    "    Person.drive(JOE, CAR, Home)\n",
    "\n",
    "    if (CAR.fuel < 100)\n",
    "      Person.fill(JOE, CAR)\n",
    "\n",
    "    if (CAR.fuel > 80) {\n",
    "      Person.drive(SAM, CAR, Restaurant)\n",
    "      Person.drive(SAM, CAR, School)\n",
    "      Person.drive(SAM, CAR, Home)\n",
    "      Person.drive(SAM, CAR, School)\n",
    "      Person.drive(SAM, CAR, Home)\n",
    "      Person.drive(JOE, CAR, School) // Error: Out of gas!\n",
    "    }\n",
    "  }\n",
    "\n",
    "}"
   ]
  },
  {
   "cell_type": "code",
   "execution_count": 14,
   "metadata": {
    "collapsed": false
   },
   "outputs": [
    {
     "data": {
      "text/plain": [
       "\u001b[36msam\u001b[0m: \u001b[32mPerson\u001b[0m = Person(Sam,Home)\n",
       "\u001b[36mjoe\u001b[0m: \u001b[32mPerson\u001b[0m = Person(Joe,Home)\n",
       "\u001b[36mmutableCar\u001b[0m: \u001b[32mCar\u001b[0m = Car(100,Pristine,Home)"
      ]
     },
     "metadata": {},
     "output_type": "display_data"
    }
   ],
   "source": []
  },
  {
   "cell_type": "code",
   "execution_count": 15,
   "metadata": {
    "collapsed": false
   },
   "outputs": [
    {
     "name": "stdout",
     "output_type": "stream",
     "text": [
      "Sam's driving\n"
     ]
    },
    {
     "data": {
      "text/plain": [
       "\u001b[36mres14_0\u001b[0m: (\u001b[32mPerson\u001b[0m, \u001b[32mCar\u001b[0m) = \u001b[33m\u001b[0m(Person(Joe,School), Car(80,Pristine,School))\n",
       "\u001b[36mres14_1\u001b[0m: \u001b[32mAny\u001b[0m = (Person(Sam,School),Car(80,Pristine,School))\n",
       "\u001b[36mres14_2\u001b[0m: (\u001b[32mPerson\u001b[0m, \u001b[32mCar\u001b[0m) = \u001b[33m\u001b[0m(Person(Joe,Home), Car(80,Pristine,Home))\n",
       "\u001b[36mres14_3\u001b[0m: \u001b[32mAny\u001b[0m = ()\n",
       "\u001b[36mres14_4\u001b[0m: (\u001b[32mPerson\u001b[0m, \u001b[32mCar\u001b[0m) = \u001b[33m\u001b[0m(Person(Joe,JanesHouse), Car(80,Pristine,JanesHouse))\n",
       "\u001b[36mres14_5\u001b[0m: (\u001b[32mPerson\u001b[0m, \u001b[32mCar\u001b[0m) = \u001b[33m\u001b[0m(Person(Joe,Home), Car(80,Pristine,Home))\n",
       "\u001b[36mres14_6\u001b[0m: \u001b[32mAny\u001b[0m = ()\n",
       "\u001b[36mres14_7\u001b[0m: \u001b[32mAny\u001b[0m = (Person(Joe,School),Car(80,Pristine,School))"
      ]
     },
     "metadata": {},
     "output_type": "display_data"
    }
   ],
   "source": []
  }
 ],
 "metadata": {
  "anaconda-cloud": {},
  "kernelspec": {
   "display_name": "Scala 2.11",
   "language": "scala211",
   "name": "scala211"
  },
  "language_info": {
   "codemirror_mode": "text/x-scala",
   "file_extension": ".scala",
   "mimetype": "text/x-scala",
   "name": "scala211",
   "pygments_lexer": "scala",
   "version": "2.11.8"
  }
 },
 "nbformat": 4,
 "nbformat_minor": 1
}
