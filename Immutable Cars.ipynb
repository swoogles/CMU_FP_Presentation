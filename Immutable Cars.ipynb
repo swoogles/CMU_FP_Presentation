{
 "cells": [
  {
   "cell_type": "code",
   "execution_count": null,
   "metadata": {
    "collapsed": false
   },
   "outputs": [],
   "source": [
    "import scala.util.{Failure, Success, Try}\n",
    "\n",
    "sealed trait Location\n",
    "case object School extends Location\n",
    "case object Home extends Location\n",
    "case object Restaurant extends Location\n",
    "\n",
    "case class Motorcycle(fuel: Int, location: Location)\n",
    "case class Person(name: String, location: Location)\n",
    "case class PositionUpdate(joe: Location, sam: Location)\n",
    "\n",
    "object TravelFunctions {\n",
    "  val tripCost = 20\n",
    "\n",
    "  def drive(motorcycle: Motorcycle, destination: Location): Try[Motorcycle] = {\n",
    "    motorcycle match {\n",
    "      case Motorcycle(_, location) if (location == destination) => Success(motorcycle)\n",
    "      case Motorcycle(fuel, _) if (fuel >= tripCost) => Success(Motorcycle(motorcycle.fuel - tripCost, destination))\n",
    "      case _ => Failure(new Exception(\"Ran out of gas!\"))\n",
    "    }\n",
    "  }\n",
    "\n",
    "  def drive(person: Person, motorcycle: Motorcycle, destination: Location): Try[(Person, Motorcycle)] = {\n",
    "    person.location match {\n",
    "      case `destination` => Success((person, motorcycle)) // Try to ignore the backticks\n",
    "      case motorcycle.location =>\n",
    "        TravelFunctions.drive(motorcycle, destination) flatMap { movedCar =>\n",
    "          Success((person.copy(location = destination), movedCar))\n",
    "        }\n",
    "      case invalidLocation => Failure(new Exception(\"Car and driver aren't in the same place!\"))\n",
    "    }\n",
    "  }\n",
    "\n",
    "  def fill(person: Person, motorcycle: Motorcycle): Try[Motorcycle] =\n",
    "    person.location match {\n",
    "      case motorcycle.location => Success(motorcycle.copy(fuel = 100))\n",
    "      case _ => Failure(new Exception(\"Car and driver aren't in the same place!\"))\n",
    "    }\n",
    "}\n",
    "\n",
    "object Scenarios {\n",
    "\n",
    "  def updateScene(joe: Person, sam: Person, motorcycle: Motorcycle, intentions: PositionUpdate): Try[(Person, Person, Motorcycle)] = {\n",
    "    for ((newJoe, newCar) <- TravelFunctions.drive(joe, motorcycle, intentions.joe);\n",
    "         (newSam, finalCar) <- TravelFunctions.drive(sam, newCar, intentions.sam) ) yield {\n",
    "      (newJoe, newSam, finalCar)\n",
    "    }\n",
    "  }\n",
    "\n",
    "  def processMovements(joe: Person, sam: Person, motorcycle: Motorcycle, intentions: PositionUpdate*): Try[(Person, Person, Motorcycle)] =\n",
    "    processMovements(joe, sam, motorcycle, intentions.toList)\n",
    "\n",
    "  def processMovements(joe: Person, sam: Person, motorcycle: Motorcycle, intentions: List[PositionUpdate]): Try[(Person, Person, Motorcycle)] = {\n",
    "    intentions.foldLeft(Try((joe, sam, motorcycle))) {\n",
    "      case (Success((curJoe, curSam, curMotorcycle)), curIntentions) => updateScene(curJoe, curSam, curMotorcycle, curIntentions)\n",
    "      case (Failure(ex), curIntentions) => Failure(ex)\n",
    "    }\n",
    "  }\n",
    "}"
   ]
  },
  {
   "cell_type": "code",
   "execution_count": null,
   "metadata": {
    "collapsed": false
   },
   "outputs": [],
   "source": [
    "val SAM = Person(\"Sam\", Home)\n",
    "val JOE = Person(\"Joe\", Home)\n",
    "val CAR = Motorcycle(100, Home)\n"
   ]
  },
  {
   "cell_type": "code",
   "execution_count": null,
   "metadata": {
    "collapsed": false
   },
   "outputs": [],
   "source": [
    "CAR.copy(fuel=80)"
   ]
  },
  {
   "cell_type": "code",
   "execution_count": null,
   "metadata": {
    "collapsed": false
   },
   "outputs": [],
   "source": [
    "TravelFunctions.drive(SAM, CAR, School)"
   ]
  }
 ],
 "metadata": {
  "anaconda-cloud": {},
  "kernelspec": {
   "display_name": "Scala 2.11",
   "language": "scala211",
   "name": "scala211"
  },
  "language_info": {
   "codemirror_mode": "text/x-scala",
   "file_extension": ".scala",
   "mimetype": "text/x-scala",
   "name": "scala211",
   "pygments_lexer": "scala",
   "version": "2.11.8"
  }
 },
 "nbformat": 4,
 "nbformat_minor": 1
}
